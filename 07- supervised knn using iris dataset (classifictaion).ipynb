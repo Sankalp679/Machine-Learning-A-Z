{
 "cells": [
  {
   "cell_type": "markdown",
   "metadata": {},
   "source": [
    "# machine learning\n",
    "\n",
    "a computer is said to be learn from experience (e) wrt some classs of tasks (t) and performance measure (p) if its performace (p) on the task (t) improves with experience (e)\n",
    "\n",
    "## uses \n",
    "      1.medicine                  2. computer vision            3.machine translation           4.etc"
   ]
  },
  {
   "cell_type": "markdown",
   "metadata": {},
   "source": [
    "### types of learning \n",
    "there are 3 types of learning methods:\n",
    "                                             \n",
    "                                             1.supervised learning\n",
    "                                               \n",
    "                                             2.unsupervised learning \n",
    "                                               \n",
    "                                             3.reinforcemnt learning\n"
   ]
  },
  {
   "cell_type": "markdown",
   "metadata": {},
   "source": [
    "# 1. SUPERVISED LEARNING\n",
    "         \n",
    "         BOTH KEY AND VALUES ARE GIVEN FOR TRAINING DATASET\n",
    "         DATA IS LABELED\n",
    "\n",
    "## 1.A. KNN (K NEAREST NEIGHBOUR) \n",
    "\n",
    "        ITS A CLASSIFICATION ALGORITHM but can also be used for regression\n",
    "**WORKING/ALGO**\n",
    "    \n",
    "              1. TRAINING\n",
    "                          ONLY STORES THE DATA\n",
    "              2. TESTING \n",
    "                         CALCULATE DISTANCE USING ANY METHOD\n",
    "                         SORT ACCORDING TO MINIMUM DISTANCE\n",
    "                         PREDICT THE VALUE\n",
    "                         \n",
    "                         \n",
    "            THE VALUE OF K MEANS HOW MANY NEAREST NEIGHBOUR WE WANNA COMPARE WITH \n",
    "            FOR K=3 COMPARE B.W 3 NEAREST NEIGHBOUR"
   ]
  },
  {
   "cell_type": "code",
   "execution_count": 3,
   "metadata": {},
   "outputs": [],
   "source": [
    "# knn program from skratch\n",
    "import numpy as np\n",
    "from sklearn import datasets\n",
    "from sklearn.model_selection import train_test_split\n",
    "import matplotlib.pyplot as plt\n",
    "import seaborn as sns\n",
    "%matplotlib inline"
   ]
  },
  {
   "cell_type": "code",
   "execution_count": 4,
   "metadata": {},
   "outputs": [],
   "source": [
    "# importing dataset from sklearn \n",
    "iris=datasets.load_iris()\n",
    "x=iris.data[:,:2]\n",
    "y=iris.target"
   ]
  },
  {
   "cell_type": "code",
   "execution_count": 5,
   "metadata": {},
   "outputs": [],
   "source": [
    "xtrain,xtest,ytrain,ytest=train_test_split(x,y,test_size=0.2,random_state=42)  #splitting of data"
   ]
  },
  {
   "cell_type": "code",
   "execution_count": 6,
   "metadata": {},
   "outputs": [],
   "source": [
    "def dist(x,y):                   #distance calculation\n",
    "    return np.sqrt(np.sum((x-y)**2))"
   ]
  },
  {
   "cell_type": "code",
   "execution_count": 7,
   "metadata": {},
   "outputs": [],
   "source": [
    "def voting(opknn):\n",
    "    frequency={}\n",
    "    for i in opknn:\n",
    "        if i in frequency:\n",
    "            frequency[i]=frequency[i]+1\n",
    "        else: \n",
    "            frequency[i]=1\n",
    "    max_key=list(frequency.keys())[0]\n",
    "    for i in frequency.keys():\n",
    "        if frequency[i]>frequency[max_key]:\n",
    "            max_key=i\n",
    "    return max_key"
   ]
  },
  {
   "cell_type": "code",
   "execution_count": 8,
   "metadata": {},
   "outputs": [],
   "source": [
    "def knn(train_x,train_y,test_x,k):\n",
    "    distance=[]\n",
    "    for i in range(train_x.shape[0]):\n",
    "        distance.append(dist(train_x[i],test_x))\n",
    "    distance=np.array(distance)\n",
    "    index=np.argsort(distance) #sorting of distances \n",
    "    distance=distance[index]   #sorting complete\n",
    "    train_y2=train_y[index]  #sorted data\n",
    "    opknn=voting(train_y2[:k])\n",
    "    return opknn"
   ]
  },
  {
   "cell_type": "code",
   "execution_count": 9,
   "metadata": {},
   "outputs": [],
   "source": [
    "def knn_c(x_train,y_train,x_test,y_test,k):\n",
    "    predictions=[]\n",
    "    for i in range(x_test.shape[0]):\n",
    "        opknn=knn(x_train,y_train,x_test[i],k)\n",
    "        predictions.append(opknn)\n",
    "    predictions=np.array(predictions)\n",
    "    print(\"gene answers:\",predictions)\n",
    "    accuracy=np.sum(predictions==y_test)/y_test.shape[0]\n",
    "    return accuracy"
   ]
  },
  {
   "cell_type": "code",
   "execution_count": 10,
   "metadata": {},
   "outputs": [
    {
     "name": "stdout",
     "output_type": "stream",
     "text": [
      "gene answers: [1 0 2 1 1 0 1 2 1 2 2 0 0 0 0 2 1 1 2 2 0 1 0 2 2 1 1 2 0 0]\n",
      "real answer: [1 0 2 1 1 0 1 2 1 1 2 0 0 0 0 1 2 1 1 2 0 2 0 2 2 2 2 2 0 0]\n",
      "accuracy 0.7666666666666667\n"
     ]
    }
   ],
   "source": [
    "accuracy=knn_c(xtrain,ytrain,xtest,ytest,5)\n",
    "print(\"real answer:\",ytest)\n",
    "print(\"accuracy\",accuracy)"
   ]
  },
  {
   "cell_type": "code",
   "execution_count": 11,
   "metadata": {},
   "outputs": [],
   "source": [
    "# hyperparameters are those paramters whose value when changed alters the accuracy of the model created\n",
    "#the process of seleacting hyperparamter is called HYPERPARAMTER OPTIMIZATION.\n",
    "#in knn hyperparamter is k"
   ]
  },
  {
   "cell_type": "markdown",
   "metadata": {},
   "source": [
    "# knn implementation using sklearn \n",
    "## dataset used : iris datset"
   ]
  },
  {
   "cell_type": "code",
   "execution_count": 12,
   "metadata": {},
   "outputs": [],
   "source": [
    "import numpy as np\n",
    "import matplotlib as plt \n",
    "from sklearn import datasets\n",
    "from sklearn.model_selection import train_test_split\n",
    "from sklearn.neighbors import KNeighborsClassifier\n",
    "from sklearn.metrics import accuracy_score\n",
    "%matplotlib inline"
   ]
  },
  {
   "cell_type": "code",
   "execution_count": 13,
   "metadata": {},
   "outputs": [],
   "source": [
    "iris=datasets.load_iris()"
   ]
  },
  {
   "cell_type": "code",
   "execution_count": 14,
   "metadata": {},
   "outputs": [
    {
     "data": {
      "text/plain": [
       "(150,)"
      ]
     },
     "execution_count": 14,
     "metadata": {},
     "output_type": "execute_result"
    }
   ],
   "source": [
    "x=iris.data[:,:2]\n",
    "y=iris.target\n",
    "y.shape"
   ]
  },
  {
   "cell_type": "code",
   "execution_count": 15,
   "metadata": {},
   "outputs": [],
   "source": [
    "xtrain,xtest,ytrain,ytest=train_test_split(x,y,test_size=0.2,random_state=42)"
   ]
  },
  {
   "cell_type": "code",
   "execution_count": 16,
   "metadata": {},
   "outputs": [],
   "source": [
    "knn=KNeighborsClassifier(n_neighbors=5)"
   ]
  },
  {
   "cell_type": "code",
   "execution_count": 17,
   "metadata": {},
   "outputs": [],
   "source": [
    "knn.fit(xtrain,ytrain)\n",
    "predict=knn.predict(xtest)\n",
    "accuracy=accuracy_score(predict,ytest)"
   ]
  },
  {
   "cell_type": "code",
   "execution_count": 18,
   "metadata": {},
   "outputs": [
    {
     "name": "stdout",
     "output_type": "stream",
     "text": [
      "predicted value: [1 0 2 1 1 0 1 2 1 2 2 0 0 0 0 2 2 1 2 2 0 1 0 2 2 1 1 2 0 0]\n",
      "known value    : [1 0 2 1 1 0 1 2 1 1 2 0 0 0 0 1 2 1 1 2 0 2 0 2 2 2 2 2 0 0]\n",
      "accuracy score : 0.8\n"
     ]
    }
   ],
   "source": [
    "print(\"predicted value:\",predict)\n",
    "print(\"known value    :\",ytest)\n",
    "print(\"accuracy score :\",accuracy)"
   ]
  },
  {
   "cell_type": "code",
   "execution_count": 22,
   "metadata": {},
   "outputs": [],
   "source": [
    "#now performing hyperparamter optimization so that we can choose the optimum n_neighbors value\n",
    "accuracy1=[]\n",
    "for i in range(1,30):\n",
    "    knn1=KNeighborsClassifier(n_neighbors=i)\n",
    "    knn1.fit(xtrain,ytrain)\n",
    "    predict1=knn.predict(xtest)\n",
    "    accuracy1.append(accuracy_score(predict,ytest))"
   ]
  },
  {
   "cell_type": "code",
   "execution_count": 23,
   "metadata": {},
   "outputs": [
    {
     "ename": "AttributeError",
     "evalue": "module 'matplotlib' has no attribute 'plot'",
     "output_type": "error",
     "traceback": [
      "\u001b[1;31m---------------------------------------------------------------------------\u001b[0m",
      "\u001b[1;31mAttributeError\u001b[0m                            Traceback (most recent call last)",
      "\u001b[1;32m<ipython-input-23-fc952de387bf>\u001b[0m in \u001b[0;36m<module>\u001b[1;34m\u001b[0m\n\u001b[1;32m----> 1\u001b[1;33m \u001b[0mplt\u001b[0m\u001b[1;33m.\u001b[0m\u001b[0mplot\u001b[0m\u001b[1;33m(\u001b[0m\u001b[0mrange\u001b[0m\u001b[1;33m(\u001b[0m\u001b[1;36m1\u001b[0m\u001b[1;33m,\u001b[0m\u001b[1;36m30\u001b[0m\u001b[1;33m)\u001b[0m\u001b[1;33m,\u001b[0m\u001b[0maccuracy1\u001b[0m\u001b[1;33m)\u001b[0m\u001b[1;31m#according to graph we can choose the optimum value and put the best value in our model\u001b[0m\u001b[1;33m\u001b[0m\u001b[1;33m\u001b[0m\u001b[0m\n\u001b[0m",
      "\u001b[1;31mAttributeError\u001b[0m: module 'matplotlib' has no attribute 'plot'"
     ]
    }
   ],
   "source": [
    "plt.plot(range(1,30),accuracy1)#according to graph we can choose the optimum value and put the best value in our model"
   ]
  },
  {
   "cell_type": "markdown",
   "metadata": {},
   "source": [
    "# disadvantage of knn\n",
    "   \n",
    "    knn is very basic and produce bad o/p for large dataset\n",
    "    also knn takes longer time in testing as all tassks done in testing phase only data is saved in training phase"
   ]
  },
  {
   "cell_type": "code",
   "execution_count": null,
   "metadata": {},
   "outputs": [],
   "source": []
  }
 ],
 "metadata": {
  "kernelspec": {
   "display_name": "Python 3",
   "language": "python",
   "name": "python3"
  },
  "language_info": {
   "codemirror_mode": {
    "name": "ipython",
    "version": 3
   },
   "file_extension": ".py",
   "mimetype": "text/x-python",
   "name": "python",
   "nbconvert_exporter": "python",
   "pygments_lexer": "ipython3",
   "version": "3.7.4"
  }
 },
 "nbformat": 4,
 "nbformat_minor": 2
}

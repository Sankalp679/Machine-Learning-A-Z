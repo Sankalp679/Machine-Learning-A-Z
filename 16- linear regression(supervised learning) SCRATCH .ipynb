{
 "cells": [
  {
   "cell_type": "markdown",
   "metadata": {},
   "source": [
    "# LINEAR REGRESSION  also called parametric algo\n",
    "\n",
    "REGRESSION IS THE STAISTICAL METHOD OF FITTING A LINE ON THE VALUES\n",
    "\n",
    "BASIC FUNCTION IS LINEAR REGRESSION IS    \n",
    "                     \n",
    "    HYPOTHESIS FUNTION------------->    Y=B0+B1*X1+B2*X2+........+Bn*Xn\n",
    "                     \n",
    "                     B0, B1,Bn = WEIGHTS THAT ARE NEED TO BE UPDATED TO GET THE PERFECT LINE\n",
    "                     Y = DEPENDENT VARIABLE\n",
    "                     X1,X2,Xn = INDEPENDENT VARIABLE\n",
    "                 \n",
    "    ERROR/COST FUNCTION------------>   J= min((1/n)SUBMITION((PREDICTi - Yi)^2))\n",
    "    \n",
    "                       COST FUNCTION HELPS US TO FIGURE OUT THE BEST POSSIBLE VALUE FOR THE WEIGHT WHICH\n",
    "                       PROVIDE THE BEST FIT LINE FOR THE DATA POINT\n",
    "                       IT DHOULD BE MINIMIZED\n",
    "                       COST FUNCTION GIVES AVG MEAN SQUARED ERROR HENCE IT IS CALLED MEAN SQAURE ERROR FUNCTION\n",
    "                       \n",
    "    GRADIENT DESCENT--------------->  \n",
    "                       METHOD OF UPDATING WEIGHTS TO REDUCE COST FUNCTION \n",
    "                       THE IDEA IS THAT  WE START WITH SOME VALUE FOR WEIGHT AND THEN WE CHNAGE THESE VALUES ITERATIVELY TO REDUCE COST, GRADIENT DESCENT HELPS US TO CHANGE THE VALUE \n",
    "                       \n",
    "                       NO OF STEPS WE TAKE IN GRADIENT DESCENT IS CALLED LEARNING RATE AND IT DECIDES HOW FAST ALGO CONVERGES TO THE MINIMA.\n",
    "                       IF LEARNING RATE TOO HIGH TIME TAKEN HIGH\n",
    "                       IF LEARNING RATE TOO LOW  ALGO MIGHT OVER STEP THE ALGO\n",
    "                       \n",
    "                       THE MAIN METHOD OF GRADIENT DESCENT IS TAKING NEGATIVE PARTIAL DERIVATIVE OF THE COST FUNCTION (J) WITH RESPECT TO WEIGHTS AND UPDATE THE WEIGHTS CORRESPONDINGLY\n",
    "                       \n",
    "                       THE MAIN FORMULAE OF GRADIENT DESCENT IS Bn=Bn-LR(PARTIAL DERIVATIVE(J)WRT(An))\n",
    "                       \n",
    "## TYPES OF LINEAR REGRESSION \n",
    "\n",
    "          1. SIMPLE LINEAR REGRESSION \n",
    "          2. MULTIPLE LINEAR REGRESSION\n",
    "          3. POLYNOMIAL LINEAR REGRESSION\n",
    "          \n",
    "## Bias Error\n",
    "\n",
    "Bias are the simplifying assumptions made by a model to make the target function easier to learn.\n",
    "\n",
    "Generally, parametric algorithms have a high bias making them fast to learn and easier to understand but generally less flexible. In turn, they have lower predictive performance on complex problems that fail to meet the simplifying assumptions of the algorithms bias.\n",
    "\n",
    "         Low Bias: Suggests less assumptions about the form of the target function.\n",
    "         High-Bias: Suggests more assumptions about the form of the target function.\n",
    "\n",
    "\n",
    "Examples of low-bias machine learning algorithms include: Decision Trees, k-Nearest Neighbors and Support Vector Machines.\n",
    "\n",
    "Examples of high-bias machine learning algorithms include: Linear Regression, Linear Discriminant Analysis and Logistic Regression.\n",
    "\n",
    "## Variance Error\n",
    "\n",
    "Variance is the amount that the estimate of the target function will change if different training data was used.\n",
    "\n",
    "The target function is estimated from the training data by a machine learning algorithm, so we should expect the algorithm to have some variance. Ideally, it should not change too much from one training dataset to the next, meaning that the algorithm is good at picking out the hidden underlying mapping between the inputs and the output variables.\n",
    "\n",
    "Machine learning algorithms that have a high variance are strongly influenced by the specifics of the training data. This means that the specifics of the training have influences the number and types of parameters used to characterize the mapping function.\n",
    "\n",
    "        Low Variance: Suggests small changes to the estimate of the target function with changes to the training dataset.\n",
    "\n",
    "        High Variance: Suggests large changes to the estimate of the target function with changes to the training dataset.\n",
    "\n",
    "Generally, nonparametric machine learning algorithms that have a lot of flexibility have a high variance. For example, decision trees have a high variance, that is even higher if the trees are not pruned before use.\n",
    "\n",
    "Examples of low-variance machine learning algorithms include: Linear Regression, Linear Discriminant Analysis and Logistic Regression.\n",
    "\n",
    "Examples of high-variance machine learning algorithms include: Decision Trees, k-Nearest Neighbors and Support Vector Machines.\n",
    "\n",
    "## Bias-Variance Trade-Off\n",
    "\n",
    "The goal of any supervised machine learning algorithm is to achieve low bias and low variance. In turn the algorithm should achieve good prediction performance.\n",
    "\n",
    "You can see a general trend in the examples above:\n",
    "\n",
    "Parametric or linear machine learning algorithms often have a high bias but a low variance.\n",
    "\n",
    "Non-parametric or non-linear machine learning algorithms often have a low bias but a high variance.\n",
    "\n",
    "The parameterization of machine learning algorithms is often a battle to balance out bias and variance."
   ]
  },
  {
   "cell_type": "code",
   "execution_count": 55,
   "metadata": {},
   "outputs": [],
   "source": [
    "import numpy as np\n",
    "import matplotlib.pyplot as plt\n",
    "from sklearn.datasets import make_regression\n",
    "from sklearn.model_selection import train_test_split\n",
    "from IPython.display import clear_output\n",
    "import time\n",
    "%matplotlib inline"
   ]
  },
  {
   "cell_type": "code",
   "execution_count": 42,
   "metadata": {},
   "outputs": [],
   "source": [
    "x,y=make_regression(n_samples=500,n_features=1,bias=4.2,noise=5.1)"
   ]
  },
  {
   "cell_type": "code",
   "execution_count": 43,
   "metadata": {},
   "outputs": [
    {
     "data": {
      "text/plain": [
       "(500, 1)"
      ]
     },
     "execution_count": 43,
     "metadata": {},
     "output_type": "execute_result"
    },
    {
     "data": {
      "image/png": "[encoded data removed]",
      "text/plain": [
       "<Figure size 432x288 with 1 Axes>"
      ]
     },
     "metadata": {
      "needs_background": "light"
     },
     "output_type": "display_data"
    }
   ],
   "source": [
    "plt.scatter(x,y)\n",
    "x.shape"
   ]
  },
  {
   "cell_type": "code",
   "execution_count": 44,
   "metadata": {},
   "outputs": [],
   "source": [
    "xtrain,xtest,ytrain,ytest=train_test_split(x,y, test_size=0.2,random_state=42)"
   ]
  },
  {
   "cell_type": "code",
   "execution_count": 45,
   "metadata": {},
   "outputs": [
    {
     "data": {
      "text/plain": [
       "(100, 1)"
      ]
     },
     "execution_count": 45,
     "metadata": {},
     "output_type": "execute_result"
    }
   ],
   "source": [
    "xtest.shape"
   ]
  },
  {
   "cell_type": "code",
   "execution_count": 46,
   "metadata": {},
   "outputs": [],
   "source": [
    "def hypothesis(x,w):\n",
    "    x0=1\n",
    "    y=w[0]*x0+x*w[1]       #simple linear regression\n",
    "    return y"
   ]
  },
  {
   "cell_type": "code",
   "execution_count": 47,
   "metadata": {},
   "outputs": [],
   "source": [
    "def cost_function(x,ytrue,w):\n",
    "    error=0.0\n",
    "    m=x.shape[0]\n",
    "    for i in range(m):\n",
    "        error=error + (ytrue[i]-hypothesis(x[i],w))**2\n",
    "    error=error/(2*m)\n",
    "    return error"
   ]
  },
  {
   "cell_type": "code",
   "execution_count": 48,
   "metadata": {},
   "outputs": [],
   "source": [
    "def gradient_function(x,ytrue,w):\n",
    "    grad_0=0.0\n",
    "    grad_1=0.0\n",
    "    m=x.shape[0]\n",
    "    for i in range(m):\n",
    "        grad_0=grad_0+ (hypothesis(x[i],w)-ytrue[i])\n",
    "        grad_1=grad_1+ (hypothesis(x[i],w)-ytrue[i])*x[i]\n",
    "    grad_0=grad_0/m\n",
    "    grad_1=grad_1/m\n",
    "    return [grad_0,grad_1]"
   ]
  },
  {
   "cell_type": "code",
   "execution_count": 49,
   "metadata": {},
   "outputs": [],
   "source": [
    "def gradient_descent(x,ytrue,w,lr=0.01):\n",
    "    error=cost_function(x,ytrue,w)\n",
    "    [grad_0,grad_1]=gradient_function(x,ytrue,w)\n",
    "    w[0]=w[0]-lr*grad_0\n",
    "    w[1]=w[1]-lr*grad_1\n",
    "    return error,w"
   ]
  },
  {
   "cell_type": "code",
   "execution_count": 57,
   "metadata": {},
   "outputs": [
    {
     "data": {
      "image/png": "[encoded data removed]",
      "text/plain": [
       "<Figure size 432x288 with 1 Axes>"
      ]
     },
     "metadata": {
      "needs_background": "light"
     },
     "output_type": "display_data"
    },
    {
     "data": {
      "image/png": "[encoded data removed]",
      "text/plain": [
       "<Figure size 432x288 with 1 Axes>"
      ]
     },
     "metadata": {
      "needs_background": "light"
     },
     "output_type": "display_data"
    },
    {
     "name": "stdout",
     "output_type": "stream",
     "text": [
      "weights: [ 3.89333818 18.65277557]\n"
     ]
    }
   ],
   "source": [
    "w=np.array([0.0,0.0])\n",
    "loss=[]\n",
    "max_iteration=350\n",
    "for i in range(max_iteration):\n",
    "    error,w=gradient_descent(xtrain,ytrain,w,lr=0.01)\n",
    "    loss.append(error)\n",
    "    yprediction=w[0]+w[1]*xtrain\n",
    "    plt.plot(xtrain,yprediction,'r')\n",
    "    plt.scatter(xtrain , ytrain)\n",
    "    plt.show()\n",
    "    plt.plot(loss)\n",
    "    plt.show()\n",
    "    print(\"weights:\",w)\n",
    "    time.sleep(0.1)\n",
    "    clear_output(wait=True)"
   ]
  },
  {
   "cell_type": "code",
   "execution_count": null,
   "metadata": {},
   "outputs": [],
   "source": []
  }
 ],
 "metadata": {
  "kernelspec": {
   "display_name": "Python 3",
   "language": "python",
   "name": "python3"
  },
  "language_info": {
   "codemirror_mode": {
    "name": "ipython",
    "version": 3
   },
   "file_extension": ".py",
   "mimetype": "text/x-python",
   "name": "python",
   "nbconvert_exporter": "python",
   "pygments_lexer": "ipython3",
   "version": "3.6.7"
  }
 },
 "nbformat": 4,
 "nbformat_minor": 2
}

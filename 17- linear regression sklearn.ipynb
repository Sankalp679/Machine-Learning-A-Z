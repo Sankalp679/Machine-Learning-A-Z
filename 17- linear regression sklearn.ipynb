{
 "cells": [
  {
   "cell_type": "code",
   "execution_count": 1,
   "metadata": {},
   "outputs": [],
   "source": [
    "import numpy as np\n",
    "import matplotlib.pyplot as plt\n",
    "from sklearn.datasets import make_regression\n",
    "from sklearn.linear_model import LinearRegression \n",
    "from sklearn.model_selection import train_test_split\n",
    "from sklearn.metrics import mean_squared_error\n",
    "%matplotlib inline"
   ]
  },
  {
   "cell_type": "code",
   "execution_count": 2,
   "metadata": {},
   "outputs": [
    {
     "data": {
      "text/plain": [
       "<matplotlib.collections.PathCollection at 0x23ee52fe108>"
      ]
     },
     "execution_count": 2,
     "metadata": {},
     "output_type": "execute_result"
    },
    {
     "data": {
      "image/png": "[encoded data removed]",
      "text/plain": [
       "<Figure size 432x288 with 1 Axes>"
      ]
     },
     "metadata": {
      "needs_background": "light"
     },
     "output_type": "display_data"
    }
   ],
   "source": [
    "x,y=make_regression(n_samples=500,noise=5.1,n_features=1,bias=5.6)\n",
    "plt.scatter(x,y)"
   ]
  },
  {
   "cell_type": "code",
   "execution_count": 3,
   "metadata": {},
   "outputs": [
    {
     "data": {
      "text/plain": [
       "(400, 1)"
      ]
     },
     "execution_count": 3,
     "metadata": {},
     "output_type": "execute_result"
    }
   ],
   "source": [
    "xtrain,xtest,ytrain,ytest=train_test_split(x,y,test_size=0.2,random_state=42)\n",
    "xtrain.shape"
   ]
  },
  {
   "cell_type": "code",
   "execution_count": 4,
   "metadata": {},
   "outputs": [],
   "source": [
    "linreg=LinearRegression()"
   ]
  },
  {
   "cell_type": "code",
   "execution_count": 5,
   "metadata": {},
   "outputs": [
    {
     "data": {
      "text/plain": [
       "LinearRegression(copy_X=True, fit_intercept=True, n_jobs=None, normalize=False)"
      ]
     },
     "execution_count": 5,
     "metadata": {},
     "output_type": "execute_result"
    }
   ],
   "source": [
    "linreg.fit(xtrain,ytrain)"
   ]
  },
  {
   "cell_type": "code",
   "execution_count": 6,
   "metadata": {},
   "outputs": [],
   "source": [
    "predicted=linreg.predict(xtest)"
   ]
  },
  {
   "cell_type": "code",
   "execution_count": 7,
   "metadata": {},
   "outputs": [
    {
     "name": "stdout",
     "output_type": "stream",
     "text": [
      "known answers [  60.89478627  -45.02300294  -47.12368536  -85.0787682  -164.57159007\n",
      "   38.94321309  119.37889803  119.24148836  104.57811878   68.54234161\n",
      " -121.74758918   53.80230781   35.56912129   58.23128011  179.85348412\n",
      "   -6.00413674   -6.24696331   26.90590661  -19.04959241   12.76465054\n",
      " -155.13174121   49.19191449  -77.20037991   34.1640958    20.68705167\n",
      "  -35.94199455   -8.77535413   22.20356472    6.77074312 -113.33971989\n",
      "  -54.14059081  -62.40771014  -18.8096612   -23.92559511  -89.61518305\n",
      "   63.59652072   99.799176    -37.68643626 -121.68116371  120.06955175\n",
      "  -50.33101035  147.96535324  -14.23355239  -33.54110935   80.66000137\n",
      "   83.09031304  -44.59595114   53.48975412   25.7089418    10.13449886\n",
      "   12.25957494   88.51149551  116.70299708  123.47264769 -141.67772446\n",
      "   43.46111647   -2.61083553  -34.9451859    90.66937723  -46.65026558\n",
      "   11.6272236     1.45045412  -47.85483441   41.3711113   -71.67062853\n",
      "   18.1202154    20.23422178   22.91029192   78.85298053   80.54558622\n",
      "  -37.40423487    2.3780365   -23.24270758  -27.76166806   23.98419231\n",
      "   62.6092947    31.45187977  -20.28261554  139.4688752   -28.15885123\n",
      " -169.01853128   29.31285197   17.35779437   31.34612616  -32.13139507\n",
      "   97.18414815   82.99844644  -85.29696329  -29.24751947  -32.31774903\n",
      " -122.82529316   30.92097133  -73.3368118   -12.65960631   -9.13152416\n",
      "    2.2928746   -13.42211777  115.61891112 -101.71355961  -75.90692652] \n",
      "predicted answers [  58.31154416  -39.28682991  -51.26850411  -81.18425641 -162.51914632\n",
      "   34.91502507  122.89154079  122.92541575  101.43570325   69.97971562\n",
      " -120.2912375    51.43677708   39.28794764   59.89967416  177.13496697\n",
      "   -1.57448532   -4.5808599    24.82083609  -24.86877241    8.69356632\n",
      " -155.82258502   49.41521295  -71.61274045   34.43714595   36.99014776\n",
      "  -32.54259012   -7.60192639   14.45109382   -1.08900614 -107.29465715\n",
      "  -60.89390617  -65.21561805  -27.79742143  -29.43201637  -86.052779\n",
      "   62.48374958   98.80829014  -29.06824332 -132.69610401  111.65987921\n",
      "  -50.97426479  152.07978065  -16.28191925  -38.96235941   81.20366354\n",
      "   85.5408564   -44.84120597   52.68686713   38.56176319   14.37362032\n",
      "    8.06592456   89.02709007  111.04635283  122.82814013 -134.14189059\n",
      "   45.32938077   -5.81989272  -38.97474977   92.06201365  -54.53308691\n",
      "   12.53434921    5.39506216  -51.4315689    40.28324121  -68.55890185\n",
      "   17.21516128   18.60164674   22.77620195   87.32711714   72.80831505\n",
      "  -43.82038945   -3.76510145  -24.18446467  -21.11413456   26.74851391\n",
      "   66.24338528   27.02824191  -24.09742418  136.94138626  -21.70007002\n",
      " -167.88736559   28.00896314   21.54471159   30.92354313  -27.1236069\n",
      "  100.99870121   79.20175474  -83.28874393  -24.39713181  -20.88459987\n",
      " -124.56582698   31.94929591  -73.43564305  -25.79158486   -3.53912828\n",
      "    3.2591275    -8.54395278  112.3550823  -103.56962798  -70.17337166]\n",
      "mean_squared_error: 25.109728591559143\n"
     ]
    }
   ],
   "source": [
    "print(\"known answers\",ytest,\"\\npredicted answers\",predicted)\n",
    "print(\"mean_squared_error:\",mean_squared_error(predicted,ytest))"
   ]
  },
  {
   "cell_type": "code",
   "execution_count": 8,
   "metadata": {},
   "outputs": [
    {
     "data": {
      "image/png": "[encoded data removed]",
      "text/plain": [
       "<Figure size 432x288 with 1 Axes>"
      ]
     },
     "metadata": {
      "needs_background": "light"
     },
     "output_type": "display_data"
    }
   ],
   "source": [
    "#plt.plot(ytest,predicted,\"r\")\n",
    "plt.scatter(xtest,ytest)\n",
    "plt.show()"
   ]
  },
  {
   "cell_type": "code",
   "execution_count": null,
   "metadata": {},
   "outputs": [],
   "source": []
  }
 ],
 "metadata": {
  "kernelspec": {
   "display_name": "Python 3",
   "language": "python",
   "name": "python3"
  },
  "language_info": {
   "codemirror_mode": {
    "name": "ipython",
    "version": 3
   },
   "file_extension": ".py",
   "mimetype": "text/x-python",
   "name": "python",
   "nbconvert_exporter": "python",
   "pygments_lexer": "ipython3",
   "version": "3.7.4"
  }
 },
 "nbformat": 4,
 "nbformat_minor": 2
}

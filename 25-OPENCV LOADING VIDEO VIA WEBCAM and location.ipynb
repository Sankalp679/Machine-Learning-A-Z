{
 "cells": [
  {
   "cell_type": "code",
   "execution_count": 1,
   "metadata": {},
   "outputs": [],
   "source": [
    "import cv2"
   ]
  },
  {
   "cell_type": "code",
   "execution_count": 2,
   "metadata": {},
   "outputs": [],
   "source": [
    "import numpy as np\n",
    "# 0 REPRESENTS THE WEBCAM WE CAN REPLACE THIS BY THE ADDRESS OF THE VIDEO WE WANNA LOAD\n",
    "cap=cv2.VideoCapture(0)\n",
    "#METHOD TO SAVE THE VIDEO ON THE COMPUTER \n",
    "fourcc=cv2.VideoWriter_fourcc(*\"XVID\")\n",
    "out=cv2.VideoWriter(\"/home/hardik/Desktop/MACHINE LEARNING A-Z/OUTPUTS/OUTVIDEO.avi\",fourcc,20,(640,480))\n",
    "#LOOP TO LOAD VIDEO ASN ALSO TO SAVE \n",
    "while True:\n",
    "    ret,frame=cap.read()\n",
    "    out.write(frame)\n",
    "    cv2.imshow(\"frame\",frame)\n",
    "# IF STATEMENT TO EXIT THE LOOP 0XFF STORES THE INPUT GIVEN BY THE KEYBOARD IF INPUT IS q WE GET OUT OFF THE LOOP\n",
    "    if cv2.waitKey(1) & 0xFF==ord(\"q\"):\n",
    "        break\n",
    "#RELEASING BOTH THE VARIABLE HOLDING THE DATA OF IMAGE        \n",
    "out.release()\n",
    "cap.release()\n",
    "#THIS STATEMENT DESTROYS THE VIEWING WINDOW AND PREVENT THE ERROR FROM COMING\n",
    "cv2.destroyAllWindows()"
   ]
  },
  {
   "cell_type": "code",
   "execution_count": 3,
   "metadata": {},
   "outputs": [],
   "source": [
    "capt=cv2.VideoCapture(0)\n",
    "while True:\n",
    "    ret,frame=capt.read()\n",
    "#converting the video into gray scale video \n",
    "    gray=cv2.cvtColor(frame,cv2.COLOR_BGR2GRAY)\n",
    "    cv2.imshow(\"gray\",gray)          #showing gray video\n",
    "    cv2.imshow(\"frame\",frame)\n",
    "# IF STATEMENT TO EXIT THE LOOP 0XFF STORES THE INPUT GIVEN BY THE KEYBOARD IF INPUT IS q WE GET OUT OFF THE LOOP\n",
    "    if cv2.waitKey(1) & 0xFF==ord(\"q\"):\n",
    "        break\n",
    "#RELEASING BOTH THE VARIABLE HOLDING THE DATA OF IMAGE        \n",
    "capt.release()\n",
    "#THIS STATEMENT DESTROYS THE VIEWING WINDOW AND PREVENT THE ERROR FROM COMING\n",
    "cv2.destroyAllWindows()"
   ]
  },
  {
   "cell_type": "code",
   "execution_count": null,
   "metadata": {},
   "outputs": [],
   "source": []
  },
  {
   "cell_type": "code",
   "execution_count": null,
   "metadata": {},
   "outputs": [],
   "source": []
  }
 ],
 "metadata": {
  "kernelspec": {
   "display_name": "Python 3",
   "language": "python",
   "name": "python3"
  },
  "language_info": {
   "codemirror_mode": {
    "name": "ipython",
    "version": 3
   },
   "file_extension": ".py",
   "mimetype": "text/x-python",
   "name": "python",
   "nbconvert_exporter": "python",
   "pygments_lexer": "ipython3",
   "version": "3.6.7"
  }
 },
 "nbformat": 4,
 "nbformat_minor": 2
}

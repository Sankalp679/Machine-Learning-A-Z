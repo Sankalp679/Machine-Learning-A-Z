{
 "cells": [
  {
   "cell_type": "markdown",
   "metadata": {},
   "source": [
    " # PERCEPTRON\n",
    "  \n",
    "   **simple single layer** feedforward neural network (perceptron).\n",
    "    \n",
    "    We use binary digits as our inputs and expect binary digits as our outputs.\n",
    "    \n",
    "    We'll use backpropagation via gradient descent to train our network and make our prediction as accurate as possible.\n",
    "\n"
   ]
  },
  {
   "cell_type": "code",
   "execution_count": 58,
   "metadata": {},
   "outputs": [],
   "source": [
    "import numpy as np"
   ]
  },
  {
   "cell_type": "code",
   "execution_count": 76,
   "metadata": {},
   "outputs": [
    {
     "name": "stdout",
     "output_type": "stream",
     "text": [
      "randomly generated weights [[-0.16595599]\n",
      " [ 0.44064899]\n",
      " [-0.99977125]]\n",
      "training generated weights [[ 9.67299303]\n",
      " [-0.2078435 ]\n",
      " [-4.62963669]]\n",
      "testing on new values: [0.99993704]\n"
     ]
    }
   ],
   "source": [
    "class Perceptron():\n",
    "    def __init__(self):\n",
    "        np.random.seed(1)  # fixing seed so  that o/p dont vary in different computers \n",
    "        self.synapsis_weight=2 * np.random.random((3,1)) - 1  # randomly generated weight\n",
    "    def non_linear(self,x,deriv=False):   # function for sigmoid and sigmoid derivative\n",
    "        if deriv==True:\n",
    "            return x * (1-x)       # derivative of sigmoid \n",
    "        else: \n",
    "            return 1/(1+np.exp(-x))  # sigmoid function\n",
    "# training function          \n",
    "    def train(self,train_input,train_output,max_iter):\n",
    "        for iters in range(max_iter):   # loop to train the model\n",
    "            output=self.process(train_input)     # getting o/p from the process function\n",
    "            error=train_output-output     # error/ cost function which needs to be decreased\n",
    "            del_error=error*self.non_linear(output,deriv=True) # del error to perform backpropogation\n",
    "            change=np.dot(train_input.T,del_error)  # backpropogation\n",
    "            self.synapsis_weight+=change  # changing the weights according to the backpropogation\n",
    "    def process(self,inputs):   \n",
    "        neuron_step_1=np.dot(inputs,self.synapsis_weight)  # hypothesis function\n",
    "        neuron_step_2=self.non_linear(neuron_step_1,deriv=False) # applying activation function on hypothesis function \n",
    "        return neuron_step_2\n",
    "if __name__ == \"__main__\":\n",
    "    Perceptron=Perceptron()  # creating object of class Perceptron\n",
    "    print(\"randomly generated weights\",Perceptron.synapsis_weight)\n",
    "    x= array([[0, 0, 1], [1, 1, 1], [1, 0, 1], [0, 1, 1]])          # training dataset i/p\n",
    "    y = array([[0, 1, 1, 0]]).T         # training dataset o/p\n",
    "    Perceptron.train(x,y,10000)    # training \n",
    "    print(\"training generated weights\",Perceptron.synapsis_weight)\n",
    "    print(\"testing on new values:\",Perceptron.process(np.array([1,0,0])))"
   ]
  },
  {
   "cell_type": "code",
   "execution_count": null,
   "metadata": {},
   "outputs": [],
   "source": []
  },
  {
   "cell_type": "code",
   "execution_count": null,
   "metadata": {},
   "outputs": [],
   "source": []
  },
  {
   "cell_type": "code",
   "execution_count": null,
   "metadata": {},
   "outputs": [],
   "source": []
  }
 ],
 "metadata": {
  "kernelspec": {
   "display_name": "Python 3",
   "language": "python",
   "name": "python3"
  },
  "language_info": {
   "codemirror_mode": {
    "name": "ipython",
    "version": 3
   },
   "file_extension": ".py",
   "mimetype": "text/x-python",
   "name": "python",
   "nbconvert_exporter": "python",
   "pygments_lexer": "ipython3",
   "version": "3.6.7"
  }
 },
 "nbformat": 4,
 "nbformat_minor": 2
}

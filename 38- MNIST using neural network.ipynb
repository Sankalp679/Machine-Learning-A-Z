{
 "cells": [
  {
   "cell_type": "code",
   "execution_count": 2,
   "metadata": {},
   "outputs": [
    {
     "name": "stderr",
     "output_type": "stream",
     "text": [
      "Using TensorFlow backend.\n"
     ]
    }
   ],
   "source": [
    "import numpy as np\n",
    "import matplotlib.pyplot as plt\n",
    "from keras.datasets import mnist     # importing dataset\n",
    "from keras.layers import Dense,Dropout  # using 2 basic layers for our prediction\n",
    "%matplotlib inline\n",
    "from keras.models import Sequential    # model we are using is sequential\n",
    "from keras import utils # for categorical conversion "
   ]
  },
  {
   "cell_type": "code",
   "execution_count": 3,
   "metadata": {},
   "outputs": [
    {
     "data": {
      "text/plain": [
       "(10000, 28, 28)"
      ]
     },
     "execution_count": 3,
     "metadata": {},
     "output_type": "execute_result"
    }
   ],
   "source": [
    "(xtrain,ytrain),(xtest,ytest)=mnist.load_data()\n",
    "xtest.shape    # the image is in 3d we need to flatten the image "
   ]
  },
  {
   "cell_type": "code",
   "execution_count": 4,
   "metadata": {},
   "outputs": [
    {
     "name": "stdout",
     "output_type": "stream",
     "text": [
      "image is : 5\n"
     ]
    },
    {
     "data": {
      "image/png": "[encoded data removed]",
      "text/plain": [
       "<Figure size 432x288 with 1 Axes>"
      ]
     },
     "metadata": {
      "needs_background": "light"
     },
     "output_type": "display_data"
    }
   ],
   "source": [
    "plt.imshow(xtrain[0])\n",
    "print(\"image is :\",ytrain[0])\n"
   ]
  },
  {
   "cell_type": "code",
   "execution_count": 5,
   "metadata": {},
   "outputs": [
    {
     "name": "stdout",
     "output_type": "stream",
     "text": [
      "image is : 0\n"
     ]
    },
    {
     "data": {
      "image/png": "[encoded data removed]",
      "text/plain": [
       "<Figure size 432x288 with 1 Axes>"
      ]
     },
     "metadata": {
      "needs_background": "light"
     },
     "output_type": "display_data"
    }
   ],
   "source": [
    "plt.imshow(xtrain[1])\n",
    "print(\"image is :\",ytrain[1])"
   ]
  },
  {
   "cell_type": "code",
   "execution_count": 6,
   "metadata": {},
   "outputs": [],
   "source": [
    "xtrain=xtrain.reshape(60000,784)\n",
    "xtest=xtest.reshape(10000,784)"
   ]
  },
  {
   "cell_type": "code",
   "execution_count": 7,
   "metadata": {},
   "outputs": [],
   "source": [
    "# keras created layers only accept float data\n",
    "xtrain=xtrain.astype(\"float32\")\n",
    "xtest=xtest.astype(\"float32\")\n",
    "xtrain=xtrain/255      # preprocessing\n",
    "xtest=xtest/255"
   ]
  },
  {
   "cell_type": "code",
   "execution_count": 8,
   "metadata": {},
   "outputs": [],
   "source": [
    "ytrain=utils.to_categorical(ytrain,10)\n",
    "ytest=utils.to_categorical(ytest,10)"
   ]
  },
  {
   "cell_type": "markdown",
   "metadata": {},
   "source": [
    "# Determining the Number of Neurons\n",
    "There are many rule-of-thumb methods for determining the correct number of neurons to use in the hidden layers, such as the following:\n",
    "\n",
    "- The number of hidden neurons should be between the size of the input layer and the size of the output layer.\n",
    "- The number of hidden neurons should be 2/3 the size of the input layer, plus the size of the output layer.\n",
    "- The number of hidden neurons should be less than twice the size of the input layer.\n"
   ]
  },
  {
   "cell_type": "markdown",
   "metadata": {},
   "source": [
    "# Determining the Number of Hidden Layers\n",
    "\n",
    "| Number of Hidden Layers | Result |\n",
    "\n",
    " 0 - Only capable of representing linear separable functions or decisions.\n",
    "\n",
    " 1 - Can approximate any function that contains a continuous mapping from one finite space to another.\n",
    "\n",
    " 2 - Can represent an arbitrary decision boundary to arbitrary accuracy with rational activation functions and can      approximate any smooth mapping to any accuracy.\n",
    "\n",
    "Deciding the number of hidden neuron layers is only a small part of the problem. \n",
    "\n",
    "You must also determine how many neurons will be in each of these hidden layers. \n",
    "\n",
    "This process is covered in the next section."
   ]
  },
  {
   "cell_type": "code",
   "execution_count": 9,
   "metadata": {},
   "outputs": [
    {
     "name": "stdout",
     "output_type": "stream",
     "text": [
      "Model: \"sequential_1\"\n",
      "_________________________________________________________________\n",
      "Layer (type)                 Output Shape              Param #   \n",
      "=================================================================\n",
      "dense_1 (Dense)              (None, 500)               392500    \n",
      "_________________________________________________________________\n",
      "dropout_1 (Dropout)          (None, 500)               0         \n",
      "_________________________________________________________________\n",
      "dense_2 (Dense)              (None, 250)               125250    \n",
      "_________________________________________________________________\n",
      "dropout_2 (Dropout)          (None, 250)               0         \n",
      "_________________________________________________________________\n",
      "dense_3 (Dense)              (None, 10)                2510      \n",
      "=================================================================\n",
      "Total params: 520,260\n",
      "Trainable params: 520,260\n",
      "Non-trainable params: 0\n",
      "_________________________________________________________________\n"
     ]
    }
   ],
   "source": [
    "# creating model \n",
    "model=Sequential()\n",
    "model.add(Dense(500,input_shape=(784,),activation=\"relu\"))\n",
    "model.add(Dropout(0.2))\n",
    "model.add(Dense(250,activation=\"relu\"))\n",
    "model.add(Dropout(0.2))\n",
    "model.add(Dense(10,activation=\"softmax\"))\n",
    "model.summary()"
   ]
  },
  {
   "cell_type": "code",
   "execution_count": 10,
   "metadata": {},
   "outputs": [],
   "source": [
    "model.compile(loss=\"categorical_crossentropy\",metrics=[\"accuracy\"],optimizer=\"RMSprop\")"
   ]
  },
  {
   "cell_type": "code",
   "execution_count": 11,
   "metadata": {},
   "outputs": [
    {
     "name": "stdout",
     "output_type": "stream",
     "text": [
      "WARNING:tensorflow:From C:\\Users\\hseth\\Anaconda3\\envs\\tf_gpu\\lib\\site-packages\\keras\\backend\\tensorflow_backend.py:422: The name tf.global_variables is deprecated. Please use tf.compat.v1.global_variables instead.\n",
      "\n",
      "Train on 60000 samples, validate on 10000 samples\n",
      "Epoch 1/20\n",
      "60000/60000 [==============================] - 6s 106us/step - loss: 0.2581 - accuracy: 0.9208 - val_loss: 0.1230 - val_accuracy: 0.9619\n",
      "Epoch 2/20\n",
      "60000/60000 [==============================] - 4s 69us/step - loss: 0.1096 - accuracy: 0.9664 - val_loss: 0.0847 - val_accuracy: 0.9742\n",
      "Epoch 3/20\n",
      "60000/60000 [==============================] - 4s 69us/step - loss: 0.0786 - accuracy: 0.9760 - val_loss: 0.0864 - val_accuracy: 0.9738\n",
      "Epoch 4/20\n",
      "60000/60000 [==============================] - 4s 75us/step - loss: 0.0631 - accuracy: 0.9805 - val_loss: 0.0699 - val_accuracy: 0.9801\n",
      "Epoch 5/20\n",
      "60000/60000 [==============================] - 4s 70us/step - loss: 0.0520 - accuracy: 0.9844 - val_loss: 0.0776 - val_accuracy: 0.9797\n",
      "Epoch 6/20\n",
      "60000/60000 [==============================] - 4s 68us/step - loss: 0.0447 - accuracy: 0.9863 - val_loss: 0.0688 - val_accuracy: 0.9819\n",
      "Epoch 7/20\n",
      "60000/60000 [==============================] - 4s 70us/step - loss: 0.0404 - accuracy: 0.9880 - val_loss: 0.0747 - val_accuracy: 0.9805\n",
      "Epoch 8/20\n",
      "60000/60000 [==============================] - 4s 68us/step - loss: 0.0358 - accuracy: 0.9889 - val_loss: 0.0821 - val_accuracy: 0.9801\n",
      "Epoch 9/20\n",
      "60000/60000 [==============================] - 4s 63us/step - loss: 0.0333 - accuracy: 0.9902 - val_loss: 0.0832 - val_accuracy: 0.9818\n",
      "Epoch 10/20\n",
      "60000/60000 [==============================] - 4s 65us/step - loss: 0.0297 - accuracy: 0.9908 - val_loss: 0.0846 - val_accuracy: 0.9810\n",
      "Epoch 11/20\n",
      "60000/60000 [==============================] - 4s 67us/step - loss: 0.0269 - accuracy: 0.9925 - val_loss: 0.0968 - val_accuracy: 0.9807\n",
      "Epoch 12/20\n",
      "60000/60000 [==============================] - 4s 68us/step - loss: 0.0249 - accuracy: 0.9927 - val_loss: 0.1043 - val_accuracy: 0.9825\n",
      "Epoch 13/20\n",
      "60000/60000 [==============================] - 4s 70us/step - loss: 0.0252 - accuracy: 0.9930 - val_loss: 0.1030 - val_accuracy: 0.9831\n",
      "Epoch 14/20\n",
      "60000/60000 [==============================] - 4s 69us/step - loss: 0.0223 - accuracy: 0.9933 - val_loss: 0.1086 - val_accuracy: 0.9798\n",
      "Epoch 15/20\n",
      "60000/60000 [==============================] - 4s 67us/step - loss: 0.0211 - accuracy: 0.9937 - val_loss: 0.1003 - val_accuracy: 0.9826\n",
      "Epoch 16/20\n",
      "60000/60000 [==============================] - 4s 69us/step - loss: 0.0211 - accuracy: 0.9943 - val_loss: 0.1004 - val_accuracy: 0.9838\n",
      "Epoch 17/20\n",
      "60000/60000 [==============================] - 4s 70us/step - loss: 0.0195 - accuracy: 0.9941 - val_loss: 0.1145 - val_accuracy: 0.9841\n",
      "Epoch 18/20\n",
      "60000/60000 [==============================] - 4s 68us/step - loss: 0.0179 - accuracy: 0.9949 - val_loss: 0.1116 - val_accuracy: 0.9839\n",
      "Epoch 19/20\n",
      "60000/60000 [==============================] - 4s 68us/step - loss: 0.0172 - accuracy: 0.9948 - val_loss: 0.1171 - val_accuracy: 0.9821\n",
      "Epoch 20/20\n",
      "60000/60000 [==============================] - 4s 66us/step - loss: 0.0155 - accuracy: 0.9954 - val_loss: 0.1040 - val_accuracy: 0.9833\n"
     ]
    },
    {
     "data": {
      "text/plain": [
       "<keras.callbacks.callbacks.History at 0x1be96336c48>"
      ]
     },
     "execution_count": 11,
     "metadata": {},
     "output_type": "execute_result"
    }
   ],
   "source": [
    "model.fit(xtrain,ytrain,epochs=20,batch_size=124,validation_data=(xtest, ytest))"
   ]
  },
  {
   "cell_type": "code",
   "execution_count": 12,
   "metadata": {},
   "outputs": [
    {
     "name": "stdout",
     "output_type": "stream",
     "text": [
      "10000/10000 [==============================] - 1s 108us/step\n"
     ]
    }
   ],
   "source": [
    "predict=model.evaluate(xtest,ytest)\n"
   ]
  },
  {
   "cell_type": "code",
   "execution_count": 13,
   "metadata": {},
   "outputs": [
    {
     "name": "stdout",
     "output_type": "stream",
     "text": [
      "loss: 10.40435553333022 \n",
      "accuracy: 98.3299970626831\n"
     ]
    }
   ],
   "source": [
    "print(\"loss:\",predict[0]*100,\"\\naccuracy:\",predict[1]*100)"
   ]
  },
  {
   "cell_type": "code",
   "execution_count": null,
   "metadata": {},
   "outputs": [],
   "source": []
  },
  {
   "cell_type": "code",
   "execution_count": null,
   "metadata": {},
   "outputs": [],
   "source": []
  }
 ],
 "metadata": {
  "kernelspec": {
   "display_name": "Python 3",
   "language": "python",
   "name": "python3"
  }
 },
 "nbformat": 4,
 "nbformat_minor": 2
}

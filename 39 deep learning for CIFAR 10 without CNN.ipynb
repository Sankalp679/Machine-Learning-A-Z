{
 "cells": [
  {
   "cell_type": "code",
   "execution_count": 1,
   "metadata": {
    "colab": {
     "base_uri": "https://localhost:8080/",
     "height": 35
    },
    "colab_type": "code",
    "id": "bQ4NNYrTq9pk",
    "outputId": "7c259d1c-a5c2-4182-cabf-c741990ea7c9"
   },
   "outputs": [
    {
     "name": "stderr",
     "output_type": "stream",
     "text": [
      "Using TensorFlow backend.\n"
     ]
    }
   ],
   "source": [
    "import numpy as np \n",
    "import matplotlib.pyplot as plt\n",
    "from keras.layers import Dense,Dropout\n",
    "from keras.datasets import cifar10\n",
    "from keras.utils import to_categorical\n",
    "from keras.models import Sequential\n",
    "%matplotlib inline"
   ]
  },
  {
   "cell_type": "code",
   "execution_count": 0,
   "metadata": {
    "colab": {},
    "colab_type": "code",
    "id": "v_ZDT9lorFZq"
   },
   "outputs": [],
   "source": [
    "(xtrain,ytrain),(xtest,ytest)=cifar10.load_data()"
   ]
  },
  {
   "cell_type": "code",
   "execution_count": 3,
   "metadata": {
    "colab": {
     "base_uri": "https://localhost:8080/",
     "height": 287
    },
    "colab_type": "code",
    "id": "XQoadYg7rMsu",
    "outputId": "cbd6fd74-4b3c-4bbe-d824-4c98bb09af4a"
   },
   "outputs": [
    {
     "name": "stdout",
     "output_type": "stream",
     "text": [
      "[5]\n"
     ]
    },
    {
     "data": {
      "image/png": "[encoded data removed]",
      "text/plain": [
       "<Figure size 432x288 with 1 Axes>"
      ]
     },
     "metadata": {
      "tags": []
     },
     "output_type": "display_data"
    }
   ],
   "source": [
    "plt.imshow(xtrain[4534])\n",
    "print(ytrain[4534])"
   ]
  },
  {
   "cell_type": "code",
   "execution_count": 4,
   "metadata": {
    "colab": {
     "base_uri": "https://localhost:8080/",
     "height": 35
    },
    "colab_type": "code",
    "id": "sSWjOMdZrhHD",
    "outputId": "534520d7-fc8e-4516-ea1d-f3089cc16362"
   },
   "outputs": [
    {
     "data": {
      "text/plain": [
       "(10000, 32, 32, 3)"
      ]
     },
     "execution_count": 4,
     "metadata": {
      "tags": []
     },
     "output_type": "execute_result"
    }
   ],
   "source": [
    "xtrain.shape\n",
    "xtest.shape"
   ]
  },
  {
   "cell_type": "code",
   "execution_count": 0,
   "metadata": {
    "colab": {},
    "colab_type": "code",
    "id": "CGEN9qb0sR01"
   },
   "outputs": [],
   "source": [
    "xtrain=xtrain.reshape(50000,3072)\n",
    "xtest=xtest.reshape(10000,3072)"
   ]
  },
  {
   "cell_type": "code",
   "execution_count": 0,
   "metadata": {
    "colab": {},
    "colab_type": "code",
    "id": "kvWAnQEZs11w"
   },
   "outputs": [],
   "source": [
    "xtrain=xtrain.astype(\"float32\")\n",
    "xtest=xtest.astype(\"float32\")\n",
    "xtrain=xtrain/255      # preprocessing\n",
    "xtest=xtest/255"
   ]
  },
  {
   "cell_type": "code",
   "execution_count": 0,
   "metadata": {
    "colab": {},
    "colab_type": "code",
    "id": "71ZAyhEQs_Cz"
   },
   "outputs": [],
   "source": [
    "ytrain=to_categorical(ytrain,10)\n",
    "ytest=to_categorical(ytest,10)"
   ]
  },
  {
   "cell_type": "code",
   "execution_count": 13,
   "metadata": {
    "colab": {
     "base_uri": "https://localhost:8080/",
     "height": 363
    },
    "colab_type": "code",
    "id": "X006_vKRtEzP",
    "outputId": "4d3004e4-6b7b-4318-f0cf-3b572f8fd03d"
   },
   "outputs": [
    {
     "name": "stdout",
     "output_type": "stream",
     "text": [
      "_________________________________________________________________\n",
      "Layer (type)                 Output Shape              Param #   \n",
      "=================================================================\n",
      "dense_4 (Dense)              (None, 512)               1573376   \n",
      "_________________________________________________________________\n",
      "dropout_3 (Dropout)          (None, 512)               0         \n",
      "_________________________________________________________________\n",
      "dense_5 (Dense)              (None, 250)               128250    \n",
      "_________________________________________________________________\n",
      "dropout_4 (Dropout)          (None, 250)               0         \n",
      "_________________________________________________________________\n",
      "dense_6 (Dense)              (None, 125)               31375     \n",
      "_________________________________________________________________\n",
      "dense_7 (Dense)              (None, 10)                1260      \n",
      "=================================================================\n",
      "Total params: 1,734,261\n",
      "Trainable params: 1,734,261\n",
      "Non-trainable params: 0\n",
      "_________________________________________________________________\n"
     ]
    }
   ],
   "source": [
    "# creating model \n",
    "model=Sequential()\n",
    "model.add(Dense(512,input_shape=(3072,),activation=\"relu\"))\n",
    "model.add(Dropout(0.2))\n",
    "model.add(Dense(250,activation=\"relu\"))\n",
    "model.add(Dropout(0.2))\n",
    "model.add(Dense(125,activation=\"relu\"))\n",
    "model.add(Dense(10,activation=\"softmax\"))\n",
    "model.summary()"
   ]
  },
  {
   "cell_type": "code",
   "execution_count": 0,
   "metadata": {
    "colab": {},
    "colab_type": "code",
    "id": "Z-vTZ3cJtazV"
   },
   "outputs": [],
   "source": [
    "model.compile(loss=\"categorical_crossentropy\",metrics=[\"accuracy\"],optimizer=\"RMSprop\")"
   ]
  },
  {
   "cell_type": "code",
   "execution_count": 15,
   "metadata": {
    "colab": {
     "base_uri": "https://localhost:8080/",
     "height": 1000
    },
    "colab_type": "code",
    "id": "YD4crPYxuB92",
    "outputId": "8ec02122-9360-4c18-aed7-e287782f0acf"
   },
   "outputs": [
    {
     "name": "stdout",
     "output_type": "stream",
     "text": [
      "Train on 50000 samples, validate on 10000 samples\n",
      "Epoch 1/60\n",
      "50000/50000 [==============================] - 3s 55us/step - loss: 2.1075 - acc: 0.2452 - val_loss: 1.8256 - val_acc: 0.3364\n",
      "Epoch 2/60\n",
      "50000/50000 [==============================] - 2s 46us/step - loss: 1.8550 - acc: 0.3290 - val_loss: 1.7543 - val_acc: 0.3732\n",
      "Epoch 3/60\n",
      "50000/50000 [==============================] - 2s 45us/step - loss: 1.7833 - acc: 0.3571 - val_loss: 1.6909 - val_acc: 0.3990\n",
      "Epoch 4/60\n",
      "50000/50000 [==============================] - 2s 46us/step - loss: 1.7383 - acc: 0.3778 - val_loss: 1.6402 - val_acc: 0.4202\n",
      "Epoch 5/60\n",
      "50000/50000 [==============================] - 2s 46us/step - loss: 1.6993 - acc: 0.3920 - val_loss: 1.5950 - val_acc: 0.4407\n",
      "Epoch 6/60\n",
      "50000/50000 [==============================] - 2s 45us/step - loss: 1.6674 - acc: 0.4036 - val_loss: 1.5793 - val_acc: 0.4425\n",
      "Epoch 7/60\n",
      "50000/50000 [==============================] - 2s 46us/step - loss: 1.6452 - acc: 0.4122 - val_loss: 1.7076 - val_acc: 0.3970\n",
      "Epoch 8/60\n",
      "50000/50000 [==============================] - 2s 45us/step - loss: 1.6282 - acc: 0.4168 - val_loss: 1.5729 - val_acc: 0.4472\n",
      "Epoch 9/60\n",
      "50000/50000 [==============================] - 2s 45us/step - loss: 1.6070 - acc: 0.4225 - val_loss: 1.5782 - val_acc: 0.4293\n",
      "Epoch 10/60\n",
      "50000/50000 [==============================] - 2s 45us/step - loss: 1.5973 - acc: 0.4295 - val_loss: 1.5258 - val_acc: 0.4589\n",
      "Epoch 11/60\n",
      "50000/50000 [==============================] - 2s 45us/step - loss: 1.5871 - acc: 0.4322 - val_loss: 1.5319 - val_acc: 0.4551\n",
      "Epoch 12/60\n",
      "50000/50000 [==============================] - 2s 46us/step - loss: 1.5691 - acc: 0.4370 - val_loss: 1.5281 - val_acc: 0.4686\n",
      "Epoch 13/60\n",
      "50000/50000 [==============================] - 2s 46us/step - loss: 1.5534 - acc: 0.4437 - val_loss: 1.4912 - val_acc: 0.4718\n",
      "Epoch 14/60\n",
      "50000/50000 [==============================] - 2s 45us/step - loss: 1.5489 - acc: 0.4462 - val_loss: 1.5069 - val_acc: 0.4676\n",
      "Epoch 15/60\n",
      "50000/50000 [==============================] - 2s 45us/step - loss: 1.5437 - acc: 0.4503 - val_loss: 1.4968 - val_acc: 0.4657\n",
      "Epoch 16/60\n",
      "50000/50000 [==============================] - 2s 46us/step - loss: 1.5299 - acc: 0.4527 - val_loss: 1.4851 - val_acc: 0.4742\n",
      "Epoch 17/60\n",
      "50000/50000 [==============================] - 2s 47us/step - loss: 1.5287 - acc: 0.4531 - val_loss: 1.5292 - val_acc: 0.4672\n",
      "Epoch 18/60\n",
      "50000/50000 [==============================] - 2s 46us/step - loss: 1.5167 - acc: 0.4584 - val_loss: 1.5576 - val_acc: 0.4574\n",
      "Epoch 19/60\n",
      "50000/50000 [==============================] - 2s 46us/step - loss: 1.5084 - acc: 0.4585 - val_loss: 1.4972 - val_acc: 0.4718\n",
      "Epoch 20/60\n",
      "50000/50000 [==============================] - 2s 46us/step - loss: 1.5013 - acc: 0.4633 - val_loss: 1.4793 - val_acc: 0.4802\n",
      "Epoch 21/60\n",
      "50000/50000 [==============================] - 2s 46us/step - loss: 1.4999 - acc: 0.4624 - val_loss: 1.4716 - val_acc: 0.4822\n",
      "Epoch 22/60\n",
      "50000/50000 [==============================] - 2s 45us/step - loss: 1.4918 - acc: 0.4680 - val_loss: 1.4688 - val_acc: 0.4856\n",
      "Epoch 23/60\n",
      "50000/50000 [==============================] - 2s 46us/step - loss: 1.4880 - acc: 0.4703 - val_loss: 1.4907 - val_acc: 0.4756\n",
      "Epoch 24/60\n",
      "50000/50000 [==============================] - 2s 46us/step - loss: 1.4840 - acc: 0.4692 - val_loss: 1.4530 - val_acc: 0.4860\n",
      "Epoch 25/60\n",
      "50000/50000 [==============================] - 2s 46us/step - loss: 1.4750 - acc: 0.4727 - val_loss: 1.4482 - val_acc: 0.4912\n",
      "Epoch 26/60\n",
      "50000/50000 [==============================] - 2s 46us/step - loss: 1.4715 - acc: 0.4755 - val_loss: 1.4480 - val_acc: 0.4896\n",
      "Epoch 27/60\n",
      "50000/50000 [==============================] - 2s 46us/step - loss: 1.4735 - acc: 0.4727 - val_loss: 1.4538 - val_acc: 0.4863\n",
      "Epoch 28/60\n",
      "50000/50000 [==============================] - 2s 46us/step - loss: 1.4641 - acc: 0.4780 - val_loss: 1.5017 - val_acc: 0.4603\n",
      "Epoch 29/60\n",
      "50000/50000 [==============================] - 2s 45us/step - loss: 1.4630 - acc: 0.4766 - val_loss: 1.4691 - val_acc: 0.4817\n",
      "Epoch 30/60\n",
      "50000/50000 [==============================] - 2s 46us/step - loss: 1.4604 - acc: 0.4787 - val_loss: 1.4494 - val_acc: 0.4862\n",
      "Epoch 31/60\n",
      "50000/50000 [==============================] - 2s 46us/step - loss: 1.4511 - acc: 0.4821 - val_loss: 1.4186 - val_acc: 0.5032\n",
      "Epoch 32/60\n",
      "50000/50000 [==============================] - 2s 46us/step - loss: 1.4476 - acc: 0.4823 - val_loss: 1.4181 - val_acc: 0.4980\n",
      "Epoch 33/60\n",
      "50000/50000 [==============================] - 2s 46us/step - loss: 1.4482 - acc: 0.4821 - val_loss: 1.4340 - val_acc: 0.4928\n",
      "Epoch 34/60\n",
      "50000/50000 [==============================] - 2s 46us/step - loss: 1.4428 - acc: 0.4849 - val_loss: 1.4244 - val_acc: 0.4928\n",
      "Epoch 35/60\n",
      "50000/50000 [==============================] - 2s 46us/step - loss: 1.4394 - acc: 0.4837 - val_loss: 1.4325 - val_acc: 0.4911\n",
      "Epoch 36/60\n",
      "50000/50000 [==============================] - 2s 46us/step - loss: 1.4388 - acc: 0.4867 - val_loss: 1.4261 - val_acc: 0.4967\n",
      "Epoch 37/60\n",
      "50000/50000 [==============================] - 2s 46us/step - loss: 1.4347 - acc: 0.4890 - val_loss: 1.4208 - val_acc: 0.4961\n",
      "Epoch 38/60\n",
      "50000/50000 [==============================] - 2s 47us/step - loss: 1.4310 - acc: 0.4901 - val_loss: 1.4700 - val_acc: 0.4781\n",
      "Epoch 39/60\n",
      "50000/50000 [==============================] - 2s 46us/step - loss: 1.4299 - acc: 0.4888 - val_loss: 1.4068 - val_acc: 0.4996\n",
      "Epoch 40/60\n",
      "50000/50000 [==============================] - 2s 46us/step - loss: 1.4254 - acc: 0.4904 - val_loss: 1.4060 - val_acc: 0.5037\n",
      "Epoch 41/60\n",
      "50000/50000 [==============================] - 2s 46us/step - loss: 1.4258 - acc: 0.4909 - val_loss: 1.4297 - val_acc: 0.4957\n",
      "Epoch 42/60\n",
      "50000/50000 [==============================] - 2s 46us/step - loss: 1.4272 - acc: 0.4915 - val_loss: 1.4475 - val_acc: 0.4929\n",
      "Epoch 43/60\n",
      "50000/50000 [==============================] - 2s 45us/step - loss: 1.4272 - acc: 0.4925 - val_loss: 1.4003 - val_acc: 0.5075\n",
      "Epoch 44/60\n",
      "50000/50000 [==============================] - 2s 46us/step - loss: 1.4138 - acc: 0.4946 - val_loss: 1.4259 - val_acc: 0.4948\n",
      "Epoch 45/60\n",
      "50000/50000 [==============================] - 2s 46us/step - loss: 1.4196 - acc: 0.4940 - val_loss: 1.4209 - val_acc: 0.4915\n",
      "Epoch 46/60\n",
      "50000/50000 [==============================] - 2s 46us/step - loss: 1.4197 - acc: 0.4959 - val_loss: 1.4480 - val_acc: 0.4975\n",
      "Epoch 47/60\n",
      "50000/50000 [==============================] - 2s 45us/step - loss: 1.4166 - acc: 0.4934 - val_loss: 1.3989 - val_acc: 0.5060\n",
      "Epoch 48/60\n",
      "50000/50000 [==============================] - 2s 46us/step - loss: 1.4097 - acc: 0.4963 - val_loss: 1.4072 - val_acc: 0.4964\n",
      "Epoch 49/60\n",
      "50000/50000 [==============================] - 2s 45us/step - loss: 1.4070 - acc: 0.4981 - val_loss: 1.3971 - val_acc: 0.5105\n",
      "Epoch 50/60\n",
      "50000/50000 [==============================] - 2s 46us/step - loss: 1.4053 - acc: 0.4995 - val_loss: 1.4287 - val_acc: 0.5006\n",
      "Epoch 51/60\n",
      "50000/50000 [==============================] - 2s 46us/step - loss: 1.4023 - acc: 0.4973 - val_loss: 1.4359 - val_acc: 0.4866\n",
      "Epoch 52/60\n",
      "50000/50000 [==============================] - 2s 45us/step - loss: 1.4036 - acc: 0.4990 - val_loss: 1.3983 - val_acc: 0.5093\n",
      "Epoch 53/60\n",
      "50000/50000 [==============================] - 2s 46us/step - loss: 1.3967 - acc: 0.5034 - val_loss: 1.4259 - val_acc: 0.4979\n",
      "Epoch 54/60\n",
      "50000/50000 [==============================] - 2s 46us/step - loss: 1.3988 - acc: 0.5008 - val_loss: 1.3871 - val_acc: 0.5118\n",
      "Epoch 55/60\n",
      "50000/50000 [==============================] - 2s 45us/step - loss: 1.3965 - acc: 0.5017 - val_loss: 1.4216 - val_acc: 0.5040\n",
      "Epoch 56/60\n",
      "50000/50000 [==============================] - 2s 45us/step - loss: 1.3946 - acc: 0.5026 - val_loss: 1.4138 - val_acc: 0.4957\n",
      "Epoch 57/60\n",
      "50000/50000 [==============================] - 2s 45us/step - loss: 1.3954 - acc: 0.5019 - val_loss: 1.3964 - val_acc: 0.5076\n",
      "Epoch 58/60\n",
      "50000/50000 [==============================] - 2s 46us/step - loss: 1.3892 - acc: 0.5039 - val_loss: 1.3888 - val_acc: 0.4973\n",
      "Epoch 59/60\n",
      "50000/50000 [==============================] - 2s 46us/step - loss: 1.3893 - acc: 0.5041 - val_loss: 1.3815 - val_acc: 0.5130\n",
      "Epoch 60/60\n",
      "50000/50000 [==============================] - 2s 45us/step - loss: 1.3909 - acc: 0.5030 - val_loss: 1.4071 - val_acc: 0.4991\n"
     ]
    },
    {
     "data": {
      "text/plain": [
       "<keras.callbacks.History at 0x7f4621f78438>"
      ]
     },
     "execution_count": 15,
     "metadata": {
      "tags": []
     },
     "output_type": "execute_result"
    }
   ],
   "source": [
    "model.fit(xtrain,ytrain,epochs=60,batch_size=125,validation_data=(xtest, ytest))"
   ]
  },
  {
   "cell_type": "code",
   "execution_count": 16,
   "metadata": {
    "colab": {
     "base_uri": "https://localhost:8080/",
     "height": 35
    },
    "colab_type": "code",
    "id": "KckZ1SobuJzX",
    "outputId": "63aa23b6-77d8-4c22-ca47-de268681ee48"
   },
   "outputs": [
    {
     "name": "stdout",
     "output_type": "stream",
     "text": [
      "10000/10000 [==============================] - 0s 45us/step\n"
     ]
    }
   ],
   "source": [
    "predict=model.evaluate(xtest,ytest)\n"
   ]
  },
  {
   "cell_type": "code",
   "execution_count": 17,
   "metadata": {
    "colab": {
     "base_uri": "https://localhost:8080/",
     "height": 54
    },
    "colab_type": "code",
    "id": "tPzdSj3du0tR",
    "outputId": "4decdeee-2793-4317-c85e-8fa6d94d8719"
   },
   "outputs": [
    {
     "name": "stdout",
     "output_type": "stream",
     "text": [
      "loss: 1.4070718894958496 \n",
      "accuracy: 49.91\n"
     ]
    }
   ],
   "source": [
    "print(\"loss:\",predict[0],\"\\naccuracy:\",predict[1]*100)"
   ]
  },
  {
   "cell_type": "code",
   "execution_count": 0,
   "metadata": {
    "colab": {},
    "colab_type": "code",
    "id": "e_jXijf_u3Q7"
   },
   "outputs": [],
   "source": []
  }
 ],
 "metadata": {
  "accelerator": "GPU",
  "colab": {
   "collapsed_sections": [],
   "name": "39- deep learning for CIFAR 10 without CNN",
   "provenance": [],
   "version": "0.3.2"
  },
  "kernelspec": {
   "display_name": "Python 3",
   "language": "python",
   "name": "python3"
  },
  "language_info": {
   "codemirror_mode": {
    "name": "ipython",
    "version": 3
   },
   "file_extension": ".py",
   "mimetype": "text/x-python",
   "name": "python",
   "nbconvert_exporter": "python",
   "pygments_lexer": "ipython3",
   "version": "3.6.7"
  }
 },
 "nbformat": 4,
 "nbformat_minor": 1
}

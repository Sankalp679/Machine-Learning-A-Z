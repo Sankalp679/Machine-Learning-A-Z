{
 "cells": [
  {
   "cell_type": "code",
   "execution_count": 0,
   "metadata": {
    "colab": {},
    "colab_type": "code",
    "id": "rPQJRCN6QTlv"
   },
   "outputs": [],
   "source": [
    "from keras.datasets import cifar10\n",
    "from keras.models import Sequential\n",
    "from keras.layers import Dense,Dropout,Conv2D,MaxPool2D,Flatten\n",
    "from keras.utils import np_utils\n"
   ]
  },
  {
   "cell_type": "code",
   "execution_count": 10,
   "metadata": {
    "colab": {
     "base_uri": "https://localhost:8080/",
     "height": 35
    },
    "colab_type": "code",
    "id": "oVOKqAjsRE6r",
    "outputId": "fd9f31e2-0b63-4b6a-eb75-4f84996f83cf"
   },
   "outputs": [
    {
     "name": "stdout",
     "output_type": "stream",
     "text": [
      "(50000, 32, 32, 3) (10000, 32, 32, 3)\n"
     ]
    }
   ],
   "source": [
    "batch_size = 128\n",
    "num_classes = 10\n",
    "epochs = 20\n",
    "img_rows, img_cols = 32, 32\n",
    "(x_train, y_train), (x_test, y_test) = cifar10.load_data()\n",
    "print(x_train.shape,x_test.shape)\n",
    "\n",
    "input_shape = (img_rows, img_cols, 3)\n",
    "\n",
    "x_train = x_train.astype('float32')\n",
    "x_test = x_test.astype('float32')\n",
    "x_train /= 255\n",
    "x_test /= 255\n",
    "y_train = np_utils.to_categorical(y_train, num_classes)\n",
    "y_test = np_utils.to_categorical(y_test, num_classes)"
   ]
  },
  {
   "cell_type": "markdown",
   "metadata": {
    "colab_type": "text",
    "id": "xpFh6neeSPtD"
   },
   "source": [
    "# Full (simplified) AlexNet architecture:\n",
    "[\n",
    "227x227x3] INPUT\n",
    "\n",
    "[55x55x96] CONV1: 96 11x11 filters at stride 4, pad 0\n",
    "\n",
    "[27x27x96] MAX POOL1: 3x3 filters at stride 2\n",
    "\n",
    "\n",
    "[27x27x96] NORM1: Normalization layer\n",
    "\n",
    "[27x27x256] CONV2: 256 5x5 filters at stride 1, pad 2\n",
    "\n",
    "[13x13x256] MAX POOL2: 3x3 filters at stride 2\n",
    "\n",
    "[13x13x256] NORM2: Normalization layer\n",
    "\n",
    "[13x13x384] CONV3: 384 3x3 filters at stride 1, pad 1\n",
    "\n",
    "[13x13x384] CONV4: 384 3x3 filters at stride 1, pad 1\n",
    "\n",
    "[13x13x256] CONV5: 256 3x3 filters at stride 1, pad 1\n",
    "\n",
    "[6x6x256] MAX POOL3: 3x3 filters at stride 2\n",
    "\n",
    "[4096] FC6: 4096 neurons\n",
    "\n",
    "[4096] FC7: 4096 neurons\n",
    "\n",
    "[1000] FC8: 1000 neurons (class scores)"
   ]
  },
  {
   "cell_type": "code",
   "execution_count": 11,
   "metadata": {
    "colab": {
     "base_uri": "https://localhost:8080/",
     "height": 581
    },
    "colab_type": "code",
    "id": "0l327W-TRZpV",
    "outputId": "e234c47f-d41f-4bce-b2ad-d48064800c8d"
   },
   "outputs": [
    {
     "name": "stdout",
     "output_type": "stream",
     "text": [
      "_________________________________________________________________\n",
      "Layer (type)                 Output Shape              Param #   \n",
      "=================================================================\n",
      "conv2d_12 (Conv2D)           (None, 8, 8, 96)          34944     \n",
      "_________________________________________________________________\n",
      "max_pooling2d_7 (MaxPooling2 (None, 4, 4, 96)          0         \n",
      "_________________________________________________________________\n",
      "conv2d_13 (Conv2D)           (None, 4, 4, 256)         614656    \n",
      "_________________________________________________________________\n",
      "max_pooling2d_8 (MaxPooling2 (None, 2, 2, 256)         0         \n",
      "_________________________________________________________________\n",
      "conv2d_14 (Conv2D)           (None, 2, 2, 384)         885120    \n",
      "_________________________________________________________________\n",
      "conv2d_15 (Conv2D)           (None, 2, 2, 384)         1327488   \n",
      "_________________________________________________________________\n",
      "conv2d_16 (Conv2D)           (None, 2, 2, 256)         884992    \n",
      "_________________________________________________________________\n",
      "max_pooling2d_9 (MaxPooling2 (None, 1, 1, 256)         0         \n",
      "_________________________________________________________________\n",
      "flatten_2 (Flatten)          (None, 256)               0         \n",
      "_________________________________________________________________\n",
      "dense_4 (Dense)              (None, 4096)              1052672   \n",
      "_________________________________________________________________\n",
      "dense_5 (Dense)              (None, 4096)              16781312  \n",
      "_________________________________________________________________\n",
      "dense_6 (Dense)              (None, 10)                40970     \n",
      "=================================================================\n",
      "Total params: 21,622,154\n",
      "Trainable params: 21,622,154\n",
      "Non-trainable params: 0\n",
      "_________________________________________________________________\n"
     ]
    }
   ],
   "source": [
    "\n",
    "model = Sequential()\n",
    "model.add(Conv2D(96,kernel_size=(11,11),activation='relu',strides=4,input_shape=input_shape, padding='same'))\n",
    "model.add(MaxPool2D(pool_size=(2,2),strides=2))\n",
    "\n",
    "model.add(Conv2D(256,kernel_size=(5,5),activation='relu',strides=1, padding='same'))\n",
    "model.add(MaxPool2D(pool_size=(2,2),strides=2))\n",
    "\n",
    "model.add(Conv2D(384,kernel_size=(3,3),strides=1,activation='relu',padding='same'))\n",
    "model.add(Conv2D(384,kernel_size=(3,3),strides=1,activation='relu',padding='same'))\n",
    "model.add(Conv2D(256,kernel_size=(3,3),strides=1,activation='relu',padding='same'))\n",
    "model.add(MaxPool2D(pool_size=(2,2),strides=2))\n",
    "\n",
    "model.add(Flatten())\n",
    "\n",
    "model.add(Dense(4096, activation='relu'))\n",
    "model.add(Dense(4096, activation='relu'))\n",
    "model.add(Dense(num_classes, activation='softmax'))\n",
    "\n",
    "model.summary()"
   ]
  },
  {
   "cell_type": "code",
   "execution_count": 0,
   "metadata": {
    "colab": {},
    "colab_type": "code",
    "id": "myiAV3v8TDTR"
   },
   "outputs": [],
   "source": [
    "model.compile(loss=\"categorical_crossentropy\",\n",
    "              optimizer=\"Adadelta\",\n",
    "              metrics=['accuracy'])\n"
   ]
  },
  {
   "cell_type": "code",
   "execution_count": 13,
   "metadata": {
    "colab": {
     "base_uri": "https://localhost:8080/",
     "height": 781
    },
    "colab_type": "code",
    "id": "eXxngtYfTnBe",
    "outputId": "a31d5062-4cc5-4ea0-af01-e7d5182ad402"
   },
   "outputs": [
    {
     "name": "stdout",
     "output_type": "stream",
     "text": [
      "Train on 50000 samples, validate on 10000 samples\n",
      "Epoch 1/20\n",
      "50000/50000 [==============================] - 15s 309us/step - loss: 2.1562 - acc: 0.1738 - val_loss: 2.0502 - val_acc: 0.2275\n",
      "Epoch 2/20\n",
      "50000/50000 [==============================] - 14s 287us/step - loss: 1.8133 - acc: 0.3216 - val_loss: 1.6289 - val_acc: 0.4043\n",
      "Epoch 3/20\n",
      "50000/50000 [==============================] - 14s 288us/step - loss: 1.5699 - acc: 0.4332 - val_loss: 1.4922 - val_acc: 0.4729\n",
      "Epoch 4/20\n",
      "50000/50000 [==============================] - 14s 289us/step - loss: 1.4072 - acc: 0.4989 - val_loss: 1.4281 - val_acc: 0.4930\n",
      "Epoch 5/20\n",
      "50000/50000 [==============================] - 14s 288us/step - loss: 1.2723 - acc: 0.5489 - val_loss: 1.3508 - val_acc: 0.5262\n",
      "Epoch 6/20\n",
      "50000/50000 [==============================] - 14s 289us/step - loss: 1.1587 - acc: 0.5928 - val_loss: 1.2891 - val_acc: 0.5534\n",
      "Epoch 7/20\n",
      "50000/50000 [==============================] - 14s 289us/step - loss: 1.0524 - acc: 0.6319 - val_loss: 1.1965 - val_acc: 0.5890\n",
      "Epoch 8/20\n",
      "50000/50000 [==============================] - 14s 289us/step - loss: 0.9441 - acc: 0.6708 - val_loss: 1.2570 - val_acc: 0.5626\n",
      "Epoch 9/20\n",
      "50000/50000 [==============================] - 14s 290us/step - loss: 0.8272 - acc: 0.7107 - val_loss: 1.2598 - val_acc: 0.6040\n",
      "Epoch 10/20\n",
      "50000/50000 [==============================] - 14s 290us/step - loss: 0.7125 - acc: 0.7524 - val_loss: 1.2441 - val_acc: 0.6054\n",
      "Epoch 11/20\n",
      "50000/50000 [==============================] - 15s 290us/step - loss: 0.6018 - acc: 0.7909 - val_loss: 1.2947 - val_acc: 0.6072\n",
      "Epoch 12/20\n",
      "50000/50000 [==============================] - 14s 290us/step - loss: 0.4895 - acc: 0.8308 - val_loss: 1.5235 - val_acc: 0.5830\n",
      "Epoch 13/20\n",
      "50000/50000 [==============================] - 15s 290us/step - loss: 0.3934 - acc: 0.8655 - val_loss: 1.4946 - val_acc: 0.6214\n",
      "Epoch 14/20\n",
      "50000/50000 [==============================] - 15s 291us/step - loss: 0.3112 - acc: 0.8935 - val_loss: 1.6093 - val_acc: 0.6076\n",
      "Epoch 15/20\n",
      "50000/50000 [==============================] - 15s 291us/step - loss: 0.2479 - acc: 0.9163 - val_loss: 1.7528 - val_acc: 0.6051\n",
      "Epoch 16/20\n",
      "50000/50000 [==============================] - 15s 291us/step - loss: 0.1945 - acc: 0.9332 - val_loss: 1.9165 - val_acc: 0.6097\n",
      "Epoch 17/20\n",
      "50000/50000 [==============================] - 15s 291us/step - loss: 0.1624 - acc: 0.9438 - val_loss: 1.9665 - val_acc: 0.5929\n",
      "Epoch 18/20\n",
      "50000/50000 [==============================] - 15s 291us/step - loss: 0.1310 - acc: 0.9547 - val_loss: 2.0638 - val_acc: 0.6043\n",
      "Epoch 19/20\n",
      "50000/50000 [==============================] - 15s 292us/step - loss: 0.1136 - acc: 0.9617 - val_loss: 2.0111 - val_acc: 0.6119\n",
      "Epoch 20/20\n",
      "50000/50000 [==============================] - 15s 291us/step - loss: 0.1012 - acc: 0.9659 - val_loss: 2.0468 - val_acc: 0.6116\n"
     ]
    },
    {
     "data": {
      "text/plain": [
       "<keras.callbacks.History at 0x7f1d11e0ea90>"
      ]
     },
     "execution_count": 13,
     "metadata": {
      "tags": []
     },
     "output_type": "execute_result"
    }
   ],
   "source": [
    "model.fit(x_train, y_train,\n",
    "          batch_size=batch_size,\n",
    "          epochs=epochs,\n",
    "          verbose=1,\n",
    "          validation_data=(x_test, y_test))\n"
   ]
  },
  {
   "cell_type": "code",
   "execution_count": 14,
   "metadata": {
    "colab": {
     "base_uri": "https://localhost:8080/",
     "height": 54
    },
    "colab_type": "code",
    "id": "BI-WOMmGTrO0",
    "outputId": "7f000262-5f7c-47f2-b83f-b66651e4cbeb"
   },
   "outputs": [
    {
     "name": "stdout",
     "output_type": "stream",
     "text": [
      "Test loss: 2.046816612625122\n",
      "Test accuracy: 0.6116\n"
     ]
    }
   ],
   "source": [
    "score = model.evaluate(x_test, y_test, verbose=0)\n",
    "print('Test loss:', score[0])\n",
    "print('Test accuracy:', score[1])"
   ]
  },
  {
   "cell_type": "code",
   "execution_count": 0,
   "metadata": {
    "colab": {},
    "colab_type": "code",
    "id": "w1fv5l_NVOcM"
   },
   "outputs": [],
   "source": []
  }
 ],
 "metadata": {
  "accelerator": "GPU",
  "colab": {
   "name": "44- advance cnn architecture AlexNet",
   "provenance": [],
   "version": "0.3.2"
  },
  "kernelspec": {
   "display_name": "Python 3",
   "language": "python",
   "name": "python3"
  },
  "language_info": {
   "codemirror_mode": {
    "name": "ipython",
    "version": 3
   },
   "file_extension": ".py",
   "mimetype": "text/x-python",
   "name": "python",
   "nbconvert_exporter": "python",
   "pygments_lexer": "ipython3",
   "version": "3.6.7"
  }
 },
 "nbformat": 4,
 "nbformat_minor": 1
}

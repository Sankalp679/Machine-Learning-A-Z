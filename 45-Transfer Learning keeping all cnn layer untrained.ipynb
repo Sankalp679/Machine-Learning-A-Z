{
 "cells": [
  {
   "cell_type": "markdown",
   "metadata": {
    "colab_type": "text",
    "id": "Ad_NSddJZ2OL"
   },
   "source": [
    "# What is Transfer Learning?\n",
    "\n",
    "Transfer learning, is a research problem in machine learning that focuses on storing knowledge gained while solving one problem and applying it to a different but related problem\n",
    "\n",
    "# Why Transfer Learning?\n",
    "\n",
    "- In practice a very few people train a Convolution network from scratch (random initialisation) because it is rare to get enough dataset. So, using pre-trained network weights as initialisations or a fixed feature extractor helps in solving most of the problems in hand.\n",
    "- Very Deep Networks are expensive to train. The most complex models take weeks to train using hundreds of machines equipped with expensive GPUs.\n",
    "- Determining the topology/flavour/training method/hyper parameters for deep learning is a black art with not much theory to guide you.\n",
    "\n",
    "# How Transfer Learning helps ?\n",
    "\n",
    "\n",
    "When you look at what these Deep Learning networks learn, they try to detect edges in the earlier layers, Shapes in the middle layer and some high level data specific features in the later layers. These trained networks are generally helpful in solving other computer vision problems. Lets have a look at how to do transfer learning using Keras and various cases in Transfer learning."
   ]
  },
  {
   "cell_type": "code",
   "execution_count": 0,
   "metadata": {
    "colab": {},
    "colab_type": "code",
    "id": "tVFDINEwZ53O"
   },
   "outputs": [],
   "source": [
    "from keras.applications import vgg19\n",
    "from keras.models import Sequential,Model\n",
    "from keras.layers import Dense,Dropout,Flatten\n",
    "from keras.datasets import cifar10\n",
    "from keras.utils import np_utils"
   ]
  },
  {
   "cell_type": "code",
   "execution_count": 0,
   "metadata": {
    "colab": {},
    "colab_type": "code",
    "id": "IqI5SPENZ9Kq"
   },
   "outputs": [],
   "source": [
    "(xtrain,ytrain),(xtest,ytest)=cifar10.load_data()\n",
    "xtrain = xtrain.astype('float32')          #float conversion\n",
    "xtest = xtest.astype('float32')\n",
    "xtrain = xtrain/255         #specific preprocessing applied \n",
    "xtest = xtest/255\n",
    "ytrain = np_utils.to_categorical(ytrain, 10)  #conversion of output into matrix\n",
    "ytest = np_utils.to_categorical(ytest, 10)"
   ]
  },
  {
   "cell_type": "code",
   "execution_count": 0,
   "metadata": {
    "colab": {},
    "colab_type": "code",
    "id": "pBwii4ycalwo"
   },
   "outputs": [],
   "source": [
    "# transfer learning model\n",
    "model=vgg19.VGG19(weights=\"imagenet\",include_top=False,input_shape=(32,32,3))\n",
    "\n",
    "# adding custom layers using Functional model api of keras\n",
    "x= model.output\n",
    "x= Flatten()(x)\n",
    "x= Dense(256,activation='relu')(x)\n",
    "pred=Dense(10,activation=\"softmax\")(x)\n",
    "\n",
    "#creating the final model\n",
    "model=Model(inputs=model.input,outputs=pred)\n",
    "\n",
    "# setting no. of untrained layers in our final model\n",
    "for layer in model.layers[:-3]:\n",
    "    layer.trainable = False\n",
    "    \n",
    "model.compile(loss=\"categorical_crossentropy\",\n",
    "              optimizer=\"Adadelta\",\n",
    "              metrics=['accuracy'])"
   ]
  },
  {
   "cell_type": "code",
   "execution_count": 16,
   "metadata": {
    "colab": {
     "base_uri": "https://localhost:8080/",
     "height": 781
    },
    "colab_type": "code",
    "id": "ju0KEJbqd3ai",
    "outputId": "085a924d-c684-488d-a935-973490df5743"
   },
   "outputs": [
    {
     "name": "stdout",
     "output_type": "stream",
     "text": [
      "Train on 50000 samples, validate on 10000 samples\n",
      "Epoch 1/20\n",
      "50000/50000 [==============================] - 11s 216us/step - loss: 1.4891 - acc: 0.4754 - val_loss: 1.4244 - val_acc: 0.5004\n",
      "Epoch 2/20\n",
      "50000/50000 [==============================] - 10s 207us/step - loss: 1.2870 - acc: 0.5477 - val_loss: 1.2579 - val_acc: 0.5616\n",
      "Epoch 3/20\n",
      "50000/50000 [==============================] - 10s 207us/step - loss: 1.2208 - acc: 0.5734 - val_loss: 1.2403 - val_acc: 0.5624\n",
      "Epoch 4/20\n",
      "50000/50000 [==============================] - 11s 211us/step - loss: 1.1811 - acc: 0.5830 - val_loss: 1.2395 - val_acc: 0.5689\n",
      "Epoch 5/20\n",
      "50000/50000 [==============================] - 11s 213us/step - loss: 1.1445 - acc: 0.5968 - val_loss: 1.2155 - val_acc: 0.5775\n",
      "Epoch 6/20\n",
      "50000/50000 [==============================] - 11s 213us/step - loss: 1.1176 - acc: 0.6059 - val_loss: 1.2196 - val_acc: 0.5723\n",
      "Epoch 7/20\n",
      "50000/50000 [==============================] - 11s 212us/step - loss: 1.0900 - acc: 0.6164 - val_loss: 1.1785 - val_acc: 0.5866\n",
      "Epoch 8/20\n",
      "50000/50000 [==============================] - 11s 213us/step - loss: 1.0700 - acc: 0.6239 - val_loss: 1.1479 - val_acc: 0.5981\n",
      "Epoch 9/20\n",
      "50000/50000 [==============================] - 11s 214us/step - loss: 1.0474 - acc: 0.6314 - val_loss: 1.1436 - val_acc: 0.6003\n",
      "Epoch 10/20\n",
      "50000/50000 [==============================] - 11s 214us/step - loss: 1.0300 - acc: 0.6385 - val_loss: 1.2088 - val_acc: 0.5794\n",
      "Epoch 11/20\n",
      "50000/50000 [==============================] - 11s 215us/step - loss: 1.0124 - acc: 0.6450 - val_loss: 1.1329 - val_acc: 0.6053\n",
      "Epoch 12/20\n",
      "50000/50000 [==============================] - 11s 216us/step - loss: 0.9927 - acc: 0.6518 - val_loss: 1.1627 - val_acc: 0.5962\n",
      "Epoch 13/20\n",
      "50000/50000 [==============================] - 11s 217us/step - loss: 0.9762 - acc: 0.6584 - val_loss: 1.1238 - val_acc: 0.6102\n",
      "Epoch 14/20\n",
      "50000/50000 [==============================] - 11s 217us/step - loss: 0.9597 - acc: 0.6653 - val_loss: 1.1205 - val_acc: 0.6100\n",
      "Epoch 15/20\n",
      "50000/50000 [==============================] - 11s 215us/step - loss: 0.9450 - acc: 0.6681 - val_loss: 1.1461 - val_acc: 0.6024\n",
      "Epoch 16/20\n",
      "50000/50000 [==============================] - 11s 214us/step - loss: 0.9296 - acc: 0.6735 - val_loss: 1.1594 - val_acc: 0.6025\n",
      "Epoch 17/20\n",
      "50000/50000 [==============================] - 11s 214us/step - loss: 0.9162 - acc: 0.6794 - val_loss: 1.1835 - val_acc: 0.5958\n",
      "Epoch 18/20\n",
      "50000/50000 [==============================] - 11s 214us/step - loss: 0.9023 - acc: 0.6836 - val_loss: 1.1163 - val_acc: 0.6116\n",
      "Epoch 19/20\n",
      "50000/50000 [==============================] - 11s 215us/step - loss: 0.8877 - acc: 0.6887 - val_loss: 1.1472 - val_acc: 0.6084\n",
      "Epoch 20/20\n",
      "50000/50000 [==============================] - 11s 215us/step - loss: 0.8755 - acc: 0.6940 - val_loss: 1.1509 - val_acc: 0.6064\n"
     ]
    },
    {
     "data": {
      "text/plain": [
       "<keras.callbacks.History at 0x7f68207b49e8>"
      ]
     },
     "execution_count": 16,
     "metadata": {
      "tags": []
     },
     "output_type": "execute_result"
    }
   ],
   "source": [
    "model.fit(xtrain, ytrain,\n",
    "          batch_size=128,\n",
    "          epochs=20,\n",
    "          verbose=1,\n",
    "          validation_data=(xtest, ytest))"
   ]
  },
  {
   "cell_type": "code",
   "execution_count": 17,
   "metadata": {
    "colab": {
     "base_uri": "https://localhost:8080/",
     "height": 54
    },
    "colab_type": "code",
    "id": "nJphy_b-eEn-",
    "outputId": "672bbe54-e8f2-45bf-ecb5-01c1506ba1a6"
   },
   "outputs": [
    {
     "name": "stdout",
     "output_type": "stream",
     "text": [
      "Test loss: 1.1508881008148193\n",
      "Test accuracy: 0.6064\n"
     ]
    }
   ],
   "source": [
    "score = model.evaluate(xtest, ytest, verbose=0)\n",
    "print('Test loss:', score[0])\n",
    "print('Test accuracy:', score[1])"
   ]
  },
  {
   "cell_type": "code",
   "execution_count": 0,
   "metadata": {
    "colab": {},
    "colab_type": "code",
    "id": "5uyNcgOhejdT"
   },
   "outputs": [],
   "source": []
  }
 ],
 "metadata": {
  "accelerator": "GPU",
  "colab": {
   "name": "45- Transfer Learning keeping all cnn layer untrained",
   "provenance": [],
   "version": "0.3.2"
  },
  "kernelspec": {
   "display_name": "Python 3",
   "language": "python",
   "name": "python3"
  },
  "language_info": {
   "codemirror_mode": {
    "name": "ipython",
    "version": 3
   },
   "file_extension": ".py",
   "mimetype": "text/x-python",
   "name": "python",
   "nbconvert_exporter": "python",
   "pygments_lexer": "ipython3",
   "version": "3.6.7"
  }
 },
 "nbformat": 4,
 "nbformat_minor": 1
}

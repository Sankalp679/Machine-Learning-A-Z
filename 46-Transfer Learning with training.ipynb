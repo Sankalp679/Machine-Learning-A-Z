{
  "nbformat": 4,
  "nbformat_minor": 0,
  "metadata": {
    "colab": {
      "name": "46- Transfer Learning with training",
      "version": "0.3.2",
      "provenance": []
    },
    "kernelspec": {
      "name": "python3",
      "display_name": "Python 3"
    },
    "accelerator": "GPU"
  },
  "cells": [
    {
      "cell_type": "markdown",
      "metadata": {
        "id": "Ad_NSddJZ2OL",
        "colab_type": "text"
      },
      "source": [
        "# What is Transfer Learning?\n",
        "\n",
        "Transfer learning, is a research problem in machine learning that focuses on storing knowledge gained while solving one problem and applying it to a different but related problem\n",
        "\n",
        "# Why Transfer Learning?\n",
        "\n",
        "- In practice a very few people train a Convolution network from scratch (random initialisation) because it is rare to get enough dataset. So, using pre-trained network weights as initialisations or a fixed feature extractor helps in solving most of the problems in hand.\n",
        "- Very Deep Networks are expensive to train. The most complex models take weeks to train using hundreds of machines equipped with expensive GPUs.\n",
        "- Determining the topology/flavour/training method/hyper parameters for deep learning is a black art with not much theory to guide you.\n",
        "\n",
        "# How Transfer Learning helps ?\n",
        "\n",
        "\n",
        "When you look at what these Deep Learning networks learn, they try to detect edges in the earlier layers, Shapes in the middle layer and some high level data specific features in the later layers. These trained networks are generally helpful in solving other computer vision problems. Lets have a look at how to do transfer learning using Keras and various cases in Transfer learning."
      ]
    },
    {
      "cell_type": "markdown",
      "metadata": {
        "id": "APrSoCS9gfvt",
        "colab_type": "text"
      },
      "source": [
        "Q. Implement classification of CIFAR10 dataset using transfer learning (using VGG model   with ImageNet weights). Keeping the 4 CNN blocks fixed, FINETUNE the last block and train the final neural network classifier. This was also illustrated in the class. Try to get an accuracy above 90%"
      ]
    },
    {
      "cell_type": "code",
      "metadata": {
        "id": "tVFDINEwZ53O",
        "colab_type": "code",
        "colab": {}
      },
      "source": [
        "from keras.applications import vgg19\n",
        "from keras.models import Sequential,Model\n",
        "from keras.layers import Dense,Dropout,Flatten\n",
        "from keras.datasets import cifar10\n",
        "from keras.utils import np_utils"
      ],
      "execution_count": 0,
      "outputs": []
    },
    {
      "cell_type": "code",
      "metadata": {
        "id": "IqI5SPENZ9Kq",
        "colab_type": "code",
        "colab": {}
      },
      "source": [
        "(xtrain,ytrain),(xtest,ytest)=cifar10.load_data()\n",
        "xtrain = xtrain.astype('float32')          #float conversion\n",
        "xtest = xtest.astype('float32')\n",
        "xtrain = xtrain/255         #specific preprocessing applied \n",
        "xtest = xtest/255\n",
        "ytrain = np_utils.to_categorical(ytrain, 10)  #conversion of output into matrix\n",
        "ytest = np_utils.to_categorical(ytest, 10)"
      ],
      "execution_count": 0,
      "outputs": []
    },
    {
      "cell_type": "code",
      "metadata": {
        "id": "pBwii4ycalwo",
        "colab_type": "code",
        "colab": {
          "base_uri": "https://localhost:8080/",
          "height": 1000
        },
        "outputId": "c5817148-8065-457a-c4de-8849d54a4301"
      },
      "source": [
        "# transfer learning model\n",
        "model=vgg19.VGG19(weights=\"imagenet\",include_top=False,input_shape=(32,32,3))\n",
        "\n",
        "# adding custom layers using Functional model api of keras\n",
        "x= model.output\n",
        "x= Flatten()(x)\n",
        "x= Dense(256,activation='relu')(x)\n",
        "x = Dropout(0.5)(x)\n",
        "x= Dense(125,activation='relu')(x)\n",
        "pred=Dense(10,activation=\"softmax\")(x)\n",
        "\n",
        "#creating the final model\n",
        "model=Model(inputs=model.input,outputs=pred)\n",
        "\n",
        "# setting no. of untrained layers in our final model\n",
        "for layer in model.layers[:5]:\n",
        "    layer.trainable = False\n",
        "    \n",
        "model.compile(loss=\"categorical_crossentropy\",\n",
        "              optimizer=\"Adadelta\",\n",
        "              metrics=['accuracy'])\n",
        "model.summary()"
      ],
      "execution_count": 30,
      "outputs": [
        {
          "output_type": "stream",
          "text": [
            "_________________________________________________________________\n",
            "Layer (type)                 Output Shape              Param #   \n",
            "=================================================================\n",
            "input_8 (InputLayer)         (None, 32, 32, 3)         0         \n",
            "_________________________________________________________________\n",
            "block1_conv1 (Conv2D)        (None, 32, 32, 64)        1792      \n",
            "_________________________________________________________________\n",
            "block1_conv2 (Conv2D)        (None, 32, 32, 64)        36928     \n",
            "_________________________________________________________________\n",
            "block1_pool (MaxPooling2D)   (None, 16, 16, 64)        0         \n",
            "_________________________________________________________________\n",
            "block2_conv1 (Conv2D)        (None, 16, 16, 128)       73856     \n",
            "_________________________________________________________________\n",
            "block2_conv2 (Conv2D)        (None, 16, 16, 128)       147584    \n",
            "_________________________________________________________________\n",
            "block2_pool (MaxPooling2D)   (None, 8, 8, 128)         0         \n",
            "_________________________________________________________________\n",
            "block3_conv1 (Conv2D)        (None, 8, 8, 256)         295168    \n",
            "_________________________________________________________________\n",
            "block3_conv2 (Conv2D)        (None, 8, 8, 256)         590080    \n",
            "_________________________________________________________________\n",
            "block3_conv3 (Conv2D)        (None, 8, 8, 256)         590080    \n",
            "_________________________________________________________________\n",
            "block3_conv4 (Conv2D)        (None, 8, 8, 256)         590080    \n",
            "_________________________________________________________________\n",
            "block3_pool (MaxPooling2D)   (None, 4, 4, 256)         0         \n",
            "_________________________________________________________________\n",
            "block4_conv1 (Conv2D)        (None, 4, 4, 512)         1180160   \n",
            "_________________________________________________________________\n",
            "block4_conv2 (Conv2D)        (None, 4, 4, 512)         2359808   \n",
            "_________________________________________________________________\n",
            "block4_conv3 (Conv2D)        (None, 4, 4, 512)         2359808   \n",
            "_________________________________________________________________\n",
            "block4_conv4 (Conv2D)        (None, 4, 4, 512)         2359808   \n",
            "_________________________________________________________________\n",
            "block4_pool (MaxPooling2D)   (None, 2, 2, 512)         0         \n",
            "_________________________________________________________________\n",
            "block5_conv1 (Conv2D)        (None, 2, 2, 512)         2359808   \n",
            "_________________________________________________________________\n",
            "block5_conv2 (Conv2D)        (None, 2, 2, 512)         2359808   \n",
            "_________________________________________________________________\n",
            "block5_conv3 (Conv2D)        (None, 2, 2, 512)         2359808   \n",
            "_________________________________________________________________\n",
            "block5_conv4 (Conv2D)        (None, 2, 2, 512)         2359808   \n",
            "_________________________________________________________________\n",
            "block5_pool (MaxPooling2D)   (None, 1, 1, 512)         0         \n",
            "_________________________________________________________________\n",
            "flatten_8 (Flatten)          (None, 512)               0         \n",
            "_________________________________________________________________\n",
            "dense_19 (Dense)             (None, 256)               131328    \n",
            "_________________________________________________________________\n",
            "dropout_5 (Dropout)          (None, 256)               0         \n",
            "_________________________________________________________________\n",
            "dense_20 (Dense)             (None, 125)               32125     \n",
            "_________________________________________________________________\n",
            "dense_21 (Dense)             (None, 10)                1260      \n",
            "=================================================================\n",
            "Total params: 20,189,097\n",
            "Trainable params: 20,076,521\n",
            "Non-trainable params: 112,576\n",
            "_________________________________________________________________\n"
          ],
          "name": "stdout"
        }
      ]
    },
    {
      "cell_type": "code",
      "metadata": {
        "id": "ju0KEJbqd3ai",
        "colab_type": "code",
        "colab": {
          "base_uri": "https://localhost:8080/",
          "height": 963
        },
        "outputId": "0e33934c-5ac2-405f-d22c-d0f02ea8ddbc"
      },
      "source": [
        "model.fit(xtrain, ytrain,\n",
        "          batch_size=128,\n",
        "          epochs=25,\n",
        "          verbose=1,\n",
        "          validation_data=(xtest, ytest))"
      ],
      "execution_count": 32,
      "outputs": [
        {
          "output_type": "stream",
          "text": [
            "Train on 50000 samples, validate on 10000 samples\n",
            "Epoch 1/25\n",
            "50000/50000 [==============================] - 31s 625us/step - loss: 2.0881 - acc: 0.1792 - val_loss: 1.7826 - val_acc: 0.2561\n",
            "Epoch 2/25\n",
            "50000/50000 [==============================] - 31s 625us/step - loss: 1.7443 - acc: 0.2923 - val_loss: 1.5286 - val_acc: 0.3990\n",
            "Epoch 3/25\n",
            "50000/50000 [==============================] - 32s 630us/step - loss: 1.4943 - acc: 0.4278 - val_loss: 1.4928 - val_acc: 0.4280\n",
            "Epoch 4/25\n",
            "50000/50000 [==============================] - 32s 635us/step - loss: 1.2394 - acc: 0.5555 - val_loss: 1.2734 - val_acc: 0.5557\n",
            "Epoch 5/25\n",
            "50000/50000 [==============================] - 32s 639us/step - loss: 1.0645 - acc: 0.6425 - val_loss: 1.0166 - val_acc: 0.6672\n",
            "Epoch 6/25\n",
            "50000/50000 [==============================] - 32s 637us/step - loss: 0.8976 - acc: 0.7078 - val_loss: 1.0983 - val_acc: 0.6378\n",
            "Epoch 7/25\n",
            "50000/50000 [==============================] - 32s 636us/step - loss: 0.7815 - acc: 0.7497 - val_loss: 0.8271 - val_acc: 0.7401\n",
            "Epoch 8/25\n",
            "50000/50000 [==============================] - 32s 635us/step - loss: 0.6841 - acc: 0.7816 - val_loss: 0.8022 - val_acc: 0.7535\n",
            "Epoch 9/25\n",
            "50000/50000 [==============================] - 32s 636us/step - loss: 0.6024 - acc: 0.8111 - val_loss: 0.7159 - val_acc: 0.7787\n",
            "Epoch 10/25\n",
            "50000/50000 [==============================] - 32s 638us/step - loss: 0.5333 - acc: 0.8324 - val_loss: 0.7624 - val_acc: 0.7682\n",
            "Epoch 11/25\n",
            "50000/50000 [==============================] - 32s 638us/step - loss: 0.4714 - acc: 0.8510 - val_loss: 0.7441 - val_acc: 0.7746\n",
            "Epoch 12/25\n",
            "50000/50000 [==============================] - 32s 637us/step - loss: 0.4182 - acc: 0.8702 - val_loss: 0.7514 - val_acc: 0.7872\n",
            "Epoch 13/25\n",
            "50000/50000 [==============================] - 32s 637us/step - loss: 0.3636 - acc: 0.8861 - val_loss: 0.6773 - val_acc: 0.7985\n",
            "Epoch 14/25\n",
            "50000/50000 [==============================] - 32s 636us/step - loss: 0.3261 - acc: 0.9001 - val_loss: 0.8396 - val_acc: 0.7638\n",
            "Epoch 15/25\n",
            "50000/50000 [==============================] - 32s 636us/step - loss: 0.2878 - acc: 0.9119 - val_loss: 0.7208 - val_acc: 0.8039\n",
            "Epoch 16/25\n",
            "50000/50000 [==============================] - 32s 635us/step - loss: 0.2617 - acc: 0.9207 - val_loss: 0.6924 - val_acc: 0.8068\n",
            "Epoch 17/25\n",
            "50000/50000 [==============================] - 32s 636us/step - loss: 0.2343 - acc: 0.9305 - val_loss: 0.7582 - val_acc: 0.8102\n",
            "Epoch 18/25\n",
            "50000/50000 [==============================] - 32s 634us/step - loss: 0.1977 - acc: 0.9425 - val_loss: 0.9207 - val_acc: 0.8032\n",
            "Epoch 19/25\n",
            "50000/50000 [==============================] - 32s 633us/step - loss: 0.1885 - acc: 0.9465 - val_loss: 0.7636 - val_acc: 0.8162\n",
            "Epoch 20/25\n",
            "50000/50000 [==============================] - 32s 634us/step - loss: 0.1604 - acc: 0.9526 - val_loss: 0.8265 - val_acc: 0.8144\n",
            "Epoch 21/25\n",
            "50000/50000 [==============================] - 32s 636us/step - loss: 0.1496 - acc: 0.9564 - val_loss: 0.7992 - val_acc: 0.8156\n",
            "Epoch 22/25\n",
            "50000/50000 [==============================] - 32s 634us/step - loss: 0.1403 - acc: 0.9604 - val_loss: 0.8463 - val_acc: 0.8177\n",
            "Epoch 23/25\n",
            "50000/50000 [==============================] - 32s 634us/step - loss: 0.1207 - acc: 0.9663 - val_loss: 0.8691 - val_acc: 0.8181\n",
            "Epoch 24/25\n",
            "50000/50000 [==============================] - 32s 634us/step - loss: 0.1068 - acc: 0.9714 - val_loss: 0.8752 - val_acc: 0.8202\n",
            "Epoch 25/25\n",
            "50000/50000 [==============================] - 32s 635us/step - loss: 0.1004 - acc: 0.9727 - val_loss: 0.8845 - val_acc: 0.8135\n"
          ],
          "name": "stdout"
        },
        {
          "output_type": "execute_result",
          "data": {
            "text/plain": [
              "<keras.callbacks.History at 0x7f66c68a2320>"
            ]
          },
          "metadata": {
            "tags": []
          },
          "execution_count": 32
        }
      ]
    },
    {
      "cell_type": "code",
      "metadata": {
        "id": "nJphy_b-eEn-",
        "colab_type": "code",
        "colab": {
          "base_uri": "https://localhost:8080/",
          "height": 54
        },
        "outputId": "0f3b9824-c8bc-4b8d-fa2c-c81e8c643114"
      },
      "source": [
        "score = model.evaluate(xtest, ytest, verbose=0)\n",
        "print('Test loss:', score[0])\n",
        "print('Test accuracy:', score[1])"
      ],
      "execution_count": 33,
      "outputs": [
        {
          "output_type": "stream",
          "text": [
            "Test loss: 0.8845458028793335\n",
            "Test accuracy: 0.8135\n"
          ],
          "name": "stdout"
        }
      ]
    },
    {
      "cell_type": "code",
      "metadata": {
        "id": "5uyNcgOhejdT",
        "colab_type": "code",
        "colab": {}
      },
      "source": [
        ""
      ],
      "execution_count": 0,
      "outputs": []
    }
  ]
}
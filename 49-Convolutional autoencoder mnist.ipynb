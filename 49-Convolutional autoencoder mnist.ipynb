{
 "cells": [
  {
   "cell_type": "code",
   "execution_count": 1,
   "metadata": {
    "colab": {},
    "colab_type": "code",
    "id": "-9-WM0oHrntT"
   },
   "outputs": [
    {
     "name": "stderr",
     "output_type": "stream",
     "text": [
      "Using TensorFlow backend.\n"
     ]
    }
   ],
   "source": [
    "from keras.datasets import mnist\n",
    "from keras.layers import Conv2D,MaxPool2D,UpSampling2D,Input\n",
    "from keras.models import Model\n",
    "import numpy as np\n",
    "from keras.utils import np_utils\n",
    "import matplotlib.pyplot as plt\n",
    "%matplotlib inline"
   ]
  },
  {
   "cell_type": "code",
   "execution_count": 8,
   "metadata": {
    "colab": {},
    "colab_type": "code",
    "id": "Q-YSawW2t4Eq"
   },
   "outputs": [],
   "source": [
    "(xtrain,ytrain),(xtest,ytest)=mnist.load_data()"
   ]
  },
  {
   "cell_type": "code",
   "execution_count": 3,
   "metadata": {
    "colab": {
     "base_uri": "https://localhost:8080/",
     "height": 1000
    },
    "colab_type": "code",
    "id": "7DmOFGf4uDQO",
    "outputId": "1e870b1f-3593-4b5d-8279-e22c3640072f"
   },
   "outputs": [
    {
     "name": "stdout",
     "output_type": "stream",
     "text": [
      "image is: 5\n"
     ]
    },
    {
     "data": {
      "image/png": "[encoded data removed]",
      "text/plain": [
       "<Figure size 432x288 with 1 Axes>"
      ]
     },
     "metadata": {
      "needs_background": "light"
     },
     "output_type": "display_data"
    },
    {
     "name": "stdout",
     "output_type": "stream",
     "text": [
      "image is: 0\n"
     ]
    },
    {
     "data": {
      "image/png": "[encoded data removed]",
      "text/plain": [
       "<Figure size 432x288 with 1 Axes>"
      ]
     },
     "metadata": {
      "needs_background": "light"
     },
     "output_type": "display_data"
    },
    {
     "name": "stdout",
     "output_type": "stream",
     "text": [
      "image is: 4\n"
     ]
    },
    {
     "data": {
      "image/png": "[encoded data removed]",
      "text/plain": [
       "<Figure size 432x288 with 1 Axes>"
      ]
     },
     "metadata": {
      "needs_background": "light"
     },
     "output_type": "display_data"
    },
    {
     "name": "stdout",
     "output_type": "stream",
     "text": [
      "image is: 1\n"
     ]
    },
    {
     "data": {
      "image/png": "[encoded data removed]",
      "text/plain": [
       "<Figure size 432x288 with 1 Axes>"
      ]
     },
     "metadata": {
      "needs_background": "light"
     },
     "output_type": "display_data"
    },
    {
     "name": "stdout",
     "output_type": "stream",
     "text": [
      "image is: 9\n"
     ]
    },
    {
     "data": {
      "image/png": "[encoded data removed]",
      "text/plain": [
       "<Figure size 432x288 with 1 Axes>"
      ]
     },
     "metadata": {
      "needs_background": "light"
     },
     "output_type": "display_data"
    }
   ],
   "source": [
    "for i in range(5):\n",
    "    print(\"image is:\",ytrain[i])\n",
    "    plt.imshow(xtrain[i],cmap='gray')\n",
    "    plt.show()"
   ]
  },
  {
   "cell_type": "code",
   "execution_count": null,
   "metadata": {
    "colab": {},
    "colab_type": "code",
    "id": "ALOQp3jIuLWa"
   },
   "outputs": [],
   "source": []
  },
  {
   "cell_type": "code",
   "execution_count": 4,
   "metadata": {
    "colab": {},
    "colab_type": "code",
    "id": "F0qpXhoduP1q"
   },
   "outputs": [],
   "source": [
    "xtrain=xtrain/255\n",
    "xtest=xtest/255\n",
    "xtrain=xtrain.reshape(len(xtrain),28,28,1)\n",
    "xtest=xtest.reshape(len(xtest),28,28,1)\n",
    "xtrain.shape\n",
    "ytrain=np_utils.to_categorical(ytrain,10)\n",
    "ytest=np_utils.to_categorical(ytest,10)"
   ]
  },
  {
   "cell_type": "code",
   "execution_count": 5,
   "metadata": {
    "colab": {},
    "colab_type": "code",
    "id": "aBgNzW6kufEp"
   },
   "outputs": [
    {
     "name": "stdout",
     "output_type": "stream",
     "text": [
      "WARNING:tensorflow:From C:\\Users\\hseth\\Anaconda3\\envs\\tf_gpu\\lib\\site-packages\\keras\\backend\\tensorflow_backend.py:4070: The name tf.nn.max_pool is deprecated. Please use tf.nn.max_pool2d instead.\n",
      "\n",
      "WARNING:tensorflow:From C:\\Users\\hseth\\Anaconda3\\envs\\tf_gpu\\lib\\site-packages\\tensorflow\\python\\ops\\nn_impl.py:180: add_dispatch_support.<locals>.wrapper (from tensorflow.python.ops.array_ops) is deprecated and will be removed in a future version.\n",
      "Instructions for updating:\n",
      "Use tf.where in 2.0, which has the same broadcast rule as np.where\n"
     ]
    }
   ],
   "source": [
    "# autoencoder model\n",
    "input_img = Input(shape=(28, 28, 1))  # adapt this if using `channels_first` image data format\n",
    "\n",
    "x = Conv2D(16, (3, 3), activation='relu', padding='same')(input_img)\n",
    "x = MaxPool2D((2, 2), padding='same')(x)\n",
    "x = Conv2D(8, (3, 3), activation='relu', padding='same')(x)\n",
    "x = MaxPool2D((2, 2), padding='same')(x)\n",
    "x = Conv2D(8, (3, 3), activation='relu', padding='same')(x)\n",
    "encoded = MaxPool2D((2, 2), padding='same')(x)\n",
    "\n",
    "# at this point the representation is (4, 4, 8) i.e. 128-dimensional\n",
    "\n",
    "x = Conv2D(8, (3, 3), activation='relu', padding='same')(encoded)\n",
    "x = UpSampling2D((2, 2))(x)\n",
    "x = Conv2D(8, (3, 3), activation='relu', padding='same')(x)\n",
    "x = UpSampling2D((2, 2))(x)\n",
    "x = Conv2D(16, (3, 3), activation='relu')(x)\n",
    "x = UpSampling2D((2, 2))(x)\n",
    "decoded = Conv2D(1, (3, 3), activation='sigmoid', padding='same')(x)\n",
    "\n",
    "autoencoder = Model(input_img, decoded)\n",
    "autoencoder.compile(optimizer='adadelta', loss='binary_crossentropy')"
   ]
  },
  {
   "cell_type": "code",
   "execution_count": 6,
   "metadata": {
    "colab": {
     "base_uri": "https://localhost:8080/",
     "height": 1000
    },
    "colab_type": "code",
    "id": "vhQo9sDBvtJr",
    "outputId": "43c28e19-1908-4b26-b9ee-9c2549fa55ca"
   },
   "outputs": [
    {
     "name": "stdout",
     "output_type": "stream",
     "text": [
      "WARNING:tensorflow:From C:\\Users\\hseth\\Anaconda3\\envs\\tf_gpu\\lib\\site-packages\\keras\\backend\\tensorflow_backend.py:422: The name tf.global_variables is deprecated. Please use tf.compat.v1.global_variables instead.\n",
      "\n",
      "Train on 60000 samples, validate on 10000 samples\n",
      "Epoch 1/50\n",
      "60000/60000 [==============================] - 12s 206us/step - loss: 0.2120 - val_loss: 0.1686\n",
      "Epoch 2/50\n",
      "60000/60000 [==============================] - 10s 170us/step - loss: 0.1523 - val_loss: 0.1483\n",
      "Epoch 3/50\n",
      "60000/60000 [==============================] - 9s 156us/step - loss: 0.1369 - val_loss: 0.1277\n",
      "Epoch 4/50\n",
      "60000/60000 [==============================] - 9s 158us/step - loss: 0.1288 - val_loss: 0.1327\n",
      "Epoch 5/50\n",
      "60000/60000 [==============================] - 9s 153us/step - loss: 0.1242 - val_loss: 0.1212\n",
      "Epoch 6/50\n",
      "60000/60000 [==============================] - 11s 178us/step - loss: 0.1212 - val_loss: 0.1193\n",
      "Epoch 7/50\n",
      "60000/60000 [==============================] - 10s 159us/step - loss: 0.1186 - val_loss: 0.1187\n",
      "Epoch 8/50\n",
      "60000/60000 [==============================] - 9s 154us/step - loss: 0.1170 - val_loss: 0.1159\n",
      "Epoch 9/50\n",
      "60000/60000 [==============================] - 10s 164us/step - loss: 0.1153 - val_loss: 0.1128\n",
      "Epoch 10/50\n",
      "60000/60000 [==============================] - 10s 159us/step - loss: 0.1144 - val_loss: 0.1108\n",
      "Epoch 11/50\n",
      "60000/60000 [==============================] - 7s 109us/step - loss: 0.1130 - val_loss: 0.1092\n",
      "Epoch 12/50\n",
      "60000/60000 [==============================] - 5s 88us/step - loss: 0.1122 - val_loss: 0.1137\n",
      "Epoch 13/50\n",
      "60000/60000 [==============================] - 5s 88us/step - loss: 0.1114 - val_loss: 0.1105\n",
      "Epoch 14/50\n",
      "60000/60000 [==============================] - 5s 88us/step - loss: 0.1103 - val_loss: 0.1106\n",
      "Epoch 15/50\n",
      "60000/60000 [==============================] - 5s 90us/step - loss: 0.1094 - val_loss: 0.1076\n",
      "Epoch 16/50\n",
      "60000/60000 [==============================] - 5s 92us/step - loss: 0.1087 - val_loss: 0.1092\n",
      "Epoch 17/50\n",
      "60000/60000 [==============================] - 6s 92us/step - loss: 0.1080 - val_loss: 0.1056\n",
      "Epoch 18/50\n",
      "60000/60000 [==============================] - 6s 93us/step - loss: 0.1076 - val_loss: 0.1047\n",
      "Epoch 19/50\n",
      "60000/60000 [==============================] - 5s 90us/step - loss: 0.1072 - val_loss: 0.1024\n",
      "Epoch 20/50\n",
      "60000/60000 [==============================] - 5s 88us/step - loss: 0.1065 - val_loss: 0.1061\n",
      "Epoch 21/50\n",
      "60000/60000 [==============================] - 5s 88us/step - loss: 0.1061 - val_loss: 0.1057\n",
      "Epoch 22/50\n",
      "60000/60000 [==============================] - 5s 88us/step - loss: 0.1059 - val_loss: 0.1057\n",
      "Epoch 23/50\n",
      "60000/60000 [==============================] - 6s 93us/step - loss: 0.1057 - val_loss: 0.1041\n",
      "Epoch 24/50\n",
      "60000/60000 [==============================] - 6s 92us/step - loss: 0.1052 - val_loss: 0.1012\n",
      "Epoch 25/50\n",
      "60000/60000 [==============================] - 5s 88us/step - loss: 0.1047 - val_loss: 0.1073\n",
      "Epoch 26/50\n",
      "60000/60000 [==============================] - 5s 88us/step - loss: 0.1043 - val_loss: 0.1017\n",
      "Epoch 27/50\n",
      "60000/60000 [==============================] - 5s 89us/step - loss: 0.1040 - val_loss: 0.1031\n",
      "Epoch 28/50\n",
      "60000/60000 [==============================] - 5s 88us/step - loss: 0.1036 - val_loss: 0.1047\n",
      "Epoch 29/50\n",
      "60000/60000 [==============================] - 5s 88us/step - loss: 0.1032 - val_loss: 0.1028\n",
      "Epoch 30/50\n",
      "60000/60000 [==============================] - 5s 91us/step - loss: 0.1029 - val_loss: 0.1029\n",
      "Epoch 31/50\n",
      "60000/60000 [==============================] - 5s 89us/step - loss: 0.1028 - val_loss: 0.1016\n",
      "Epoch 32/50\n",
      "60000/60000 [==============================] - 5s 90us/step - loss: 0.1028 - val_loss: 0.1039\n",
      "Epoch 33/50\n",
      "60000/60000 [==============================] - 5s 88us/step - loss: 0.1026 - val_loss: 0.1022\n",
      "Epoch 34/50\n",
      "60000/60000 [==============================] - 5s 88us/step - loss: 0.1022 - val_loss: 0.1029\n",
      "Epoch 35/50\n",
      "60000/60000 [==============================] - 5s 88us/step - loss: 0.1020 - val_loss: 0.1011\n",
      "Epoch 36/50\n",
      "60000/60000 [==============================] - 5s 88us/step - loss: 0.1019 - val_loss: 0.1047\n",
      "Epoch 37/50\n",
      "60000/60000 [==============================] - 5s 88us/step - loss: 0.1017 - val_loss: 0.1005\n",
      "Epoch 38/50\n",
      "60000/60000 [==============================] - 5s 90us/step - loss: 0.1015 - val_loss: 0.1024\n",
      "Epoch 39/50\n",
      "60000/60000 [==============================] - 5s 88us/step - loss: 0.1013 - val_loss: 0.1034\n",
      "Epoch 40/50\n",
      "60000/60000 [==============================] - 5s 88us/step - loss: 0.1013 - val_loss: 0.1007\n",
      "Epoch 41/50\n",
      "60000/60000 [==============================] - 5s 88us/step - loss: 0.1010 - val_loss: 0.0989\n",
      "Epoch 42/50\n",
      "60000/60000 [==============================] - 5s 88us/step - loss: 0.1010 - val_loss: 0.0984\n",
      "Epoch 43/50\n",
      "60000/60000 [==============================] - 5s 88us/step - loss: 0.1008 - val_loss: 0.1010\n",
      "Epoch 44/50\n",
      "60000/60000 [==============================] - 5s 88us/step - loss: 0.1003 - val_loss: 0.1003\n",
      "Epoch 45/50\n",
      "60000/60000 [==============================] - 5s 88us/step - loss: 0.1001 - val_loss: 0.0984\n",
      "Epoch 46/50\n",
      "60000/60000 [==============================] - 5s 90us/step - loss: 0.1000 - val_loss: 0.0989\n",
      "Epoch 47/50\n",
      "60000/60000 [==============================] - 5s 87us/step - loss: 0.1001 - val_loss: 0.0981\n",
      "Epoch 48/50\n",
      "60000/60000 [==============================] - 5s 87us/step - loss: 0.1000 - val_loss: 0.0981\n",
      "Epoch 49/50\n",
      "60000/60000 [==============================] - 5s 88us/step - loss: 0.0998 - val_loss: 0.1006\n",
      "Epoch 50/50\n",
      "60000/60000 [==============================] - 5s 87us/step - loss: 0.0999 - val_loss: 0.0988\n"
     ]
    },
    {
     "data": {
      "text/plain": [
       "<keras.callbacks.callbacks.History at 0x230b438ad08>"
      ]
     },
     "execution_count": 6,
     "metadata": {},
     "output_type": "execute_result"
    }
   ],
   "source": [
    "\n",
    "\n",
    "autoencoder.fit(xtrain, xtrain,\n",
    "                epochs=50,\n",
    "                batch_size=128,\n",
    "                shuffle=True,\n",
    "                validation_data=(xtest, xtest),\n",
    "                )\n"
   ]
  },
  {
   "cell_type": "code",
   "execution_count": 7,
   "metadata": {
    "colab": {
     "base_uri": "https://localhost:8080/",
     "height": 265
    },
    "colab_type": "code",
    "id": "iJn60m7ZwIkM",
    "outputId": "6c58f846-18c3-41c1-a3d9-a1d01052b545"
   },
   "outputs": [
    {
     "data": {
      "image/png": "[encoded data removed]",
      "text/plain": [
       "<Figure size 1440x288 with 20 Axes>"
      ]
     },
     "metadata": {
      "needs_background": "light"
     },
     "output_type": "display_data"
    }
   ],
   "source": [
    "decoded_imgs = autoencoder.predict(xtest)\n",
    "\n",
    "n = 10\n",
    "plt.figure(figsize=(20, 4))\n",
    "for i in range(1,n+1):\n",
    "    # display original\n",
    "    ax = plt.subplot(2, n, i)\n",
    "    plt.imshow(xtest[i].reshape(28, 28))\n",
    "    plt.gray()\n",
    "    ax.get_xaxis().set_visible(False)\n",
    "    ax.get_yaxis().set_visible(False)\n",
    "\n",
    "    # display reconstruction\n",
    "    ax = plt.subplot(2, n, i + n)\n",
    "    plt.imshow(decoded_imgs[i].reshape(28, 28))\n",
    "    plt.gray()\n",
    "    ax.get_xaxis().set_visible(False)\n",
    "    ax.get_yaxis().set_visible(False)\n",
    "plt.show()"
   ]
  },
  {
   "cell_type": "code",
   "execution_count": 0,
   "metadata": {
    "colab": {},
    "colab_type": "code",
    "id": "strHQF5dy-hz"
   },
   "outputs": [],
   "source": []
  }
 ],
 "metadata": {
  "accelerator": "GPU",
  "colab": {
   "collapsed_sections": [],
   "name": "49- Convolutional autoencoder mnist",
   "provenance": [],
   "version": "0.3.2"
  },
  "kernelspec": {
   "display_name": "Python 3",
   "language": "python",
   "name": "python3"
  },
  "language_info": {
   "codemirror_mode": {
    "name": "ipython",
    "version": 3
   },
   "file_extension": ".py",
   "mimetype": "text/x-python",
   "name": "python",
   "nbconvert_exporter": "python",
   "pygments_lexer": "ipython3",
   "version": "3.7.4"
  }
 },
 "nbformat": 4,
 "nbformat_minor": 1
}

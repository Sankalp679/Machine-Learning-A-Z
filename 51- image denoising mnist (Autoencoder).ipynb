{
 "cells": [
  {
   "cell_type": "code",
   "execution_count": 1,
   "metadata": {
    "colab": {},
    "colab_type": "code",
    "id": "y9z--ZG0biGp"
   },
   "outputs": [
    {
     "name": "stderr",
     "output_type": "stream",
     "text": [
      "Using TensorFlow backend.\n"
     ]
    }
   ],
   "source": [
    "from keras.datasets import mnist\n",
    "from keras.layers import Conv2D,UpSampling2D,MaxPooling2D,Input\n",
    "from keras.models import Model\n",
    "import matplotlib.pyplot as plt\n",
    "import numpy as np\n",
    "%matplotlib inline"
   ]
  },
  {
   "cell_type": "code",
   "execution_count": 2,
   "metadata": {
    "colab": {
     "base_uri": "https://localhost:8080/",
     "height": 54
    },
    "colab_type": "code",
    "id": "F9GubJKCeP5Z",
    "outputId": "8b2c0718-4bb0-49b5-d3e6-11dabbae8ddf"
   },
   "outputs": [],
   "source": [
    "(x_train, _), (x_test, _) = mnist.load_data()\n",
    "\n",
    "x_train = x_train.astype('float32') / 255.\n",
    "x_test = x_test.astype('float32') / 255.\n",
    "x_train = np.reshape(x_train, (len(x_train), 28, 28, 1))  # adapt this if using `channels_first` image data format\n",
    "x_test = np.reshape(x_test, (len(x_test), 28, 28, 1))  # adapt this if using `channels_first` image data format\n",
    "\n",
    "\n",
    "# adding noise to the dataset we have\n",
    "\n",
    "\n",
    "noise_factor = 0.5\n",
    "x_train_noisy = x_train + noise_factor * np.random.normal(loc=0.0, scale=1.0, size=x_train.shape) \n",
    "x_test_noisy = x_test + noise_factor * np.random.normal(loc=0.0, scale=1.0, size=x_test.shape) \n",
    "\n",
    "x_train_noisy = np.clip(x_train_noisy, 0., 1.)\n",
    "x_test_noisy = np.clip(x_test_noisy, 0., 1.)"
   ]
  },
  {
   "cell_type": "code",
   "execution_count": 3,
   "metadata": {
    "colab": {
     "base_uri": "https://localhost:8080/",
     "height": 125
    },
    "colab_type": "code",
    "id": "4AY288b-ewtW",
    "outputId": "2c1efc79-a941-4035-e7f0-309040fd1746"
   },
   "outputs": [
    {
     "data": {
      "image/png": "[encoded data removed]",
      "text/plain": [
       "<Figure size 1440x144 with 9 Axes>"
      ]
     },
     "metadata": {
      "needs_background": "light"
     },
     "output_type": "display_data"
    }
   ],
   "source": [
    "# plotting our dataset\n",
    "n = 10\n",
    "plt.figure(figsize=(20, 2))\n",
    "for i in range(1,n):\n",
    "    ax = plt.subplot(1, n, i)\n",
    "    plt.imshow(x_test_noisy[i].reshape(28, 28))\n",
    "    plt.gray()\n",
    "    ax.get_xaxis().set_visible(False)\n",
    "    ax.get_yaxis().set_visible(False)\n",
    "plt.show()"
   ]
  },
  {
   "cell_type": "code",
   "execution_count": 4,
   "metadata": {
    "colab": {
     "base_uri": "https://localhost:8080/",
     "height": 855
    },
    "colab_type": "code",
    "id": "AYjYXMope6G1",
    "outputId": "c4babf9a-9f90-4730-ec1f-e41dfb280b18"
   },
   "outputs": [
    {
     "name": "stdout",
     "output_type": "stream",
     "text": [
      "WARNING:tensorflow:From C:\\Users\\hseth\\Anaconda3\\envs\\tf_gpu\\lib\\site-packages\\keras\\backend\\tensorflow_backend.py:4070: The name tf.nn.max_pool is deprecated. Please use tf.nn.max_pool2d instead.\n",
      "\n",
      "WARNING:tensorflow:From C:\\Users\\hseth\\Anaconda3\\envs\\tf_gpu\\lib\\site-packages\\tensorflow\\python\\ops\\nn_impl.py:180: add_dispatch_support.<locals>.wrapper (from tensorflow.python.ops.array_ops) is deprecated and will be removed in a future version.\n",
      "Instructions for updating:\n",
      "Use tf.where in 2.0, which has the same broadcast rule as np.where\n",
      "Model: \"model_1\"\n",
      "_________________________________________________________________\n",
      "Layer (type)                 Output Shape              Param #   \n",
      "=================================================================\n",
      "input_1 (InputLayer)         (None, 28, 28, 1)         0         \n",
      "_________________________________________________________________\n",
      "conv2d_1 (Conv2D)            (None, 28, 28, 32)        320       \n",
      "_________________________________________________________________\n",
      "max_pooling2d_1 (MaxPooling2 (None, 14, 14, 32)        0         \n",
      "_________________________________________________________________\n",
      "conv2d_2 (Conv2D)            (None, 14, 14, 32)        9248      \n",
      "_________________________________________________________________\n",
      "max_pooling2d_2 (MaxPooling2 (None, 7, 7, 32)          0         \n",
      "_________________________________________________________________\n",
      "conv2d_3 (Conv2D)            (None, 7, 7, 32)          9248      \n",
      "_________________________________________________________________\n",
      "up_sampling2d_1 (UpSampling2 (None, 14, 14, 32)        0         \n",
      "_________________________________________________________________\n",
      "conv2d_4 (Conv2D)            (None, 14, 14, 32)        9248      \n",
      "_________________________________________________________________\n",
      "up_sampling2d_2 (UpSampling2 (None, 28, 28, 32)        0         \n",
      "_________________________________________________________________\n",
      "conv2d_5 (Conv2D)            (None, 28, 28, 1)         289       \n",
      "=================================================================\n",
      "Total params: 28,353\n",
      "Trainable params: 28,353\n",
      "Non-trainable params: 0\n",
      "_________________________________________________________________\n"
     ]
    }
   ],
   "source": [
    "# denoising neural network\n",
    "input_img = Input(shape=(28, 28, 1))  # adapt this if using `channels_first` image data format\n",
    "\n",
    "x = Conv2D(32, (3, 3), activation='relu', padding='same')(input_img)\n",
    "x = MaxPooling2D((2, 2), padding='same')(x)\n",
    "x = Conv2D(32, (3, 3), activation='relu', padding='same')(x)\n",
    "encoded = MaxPooling2D((2, 2), padding='same')(x)\n",
    "\n",
    "# at this point the representation is (7, 7, 32)\n",
    "\n",
    "x = Conv2D(32, (3, 3), activation='relu', padding='same')(encoded)\n",
    "x = UpSampling2D((2, 2))(x)\n",
    "x = Conv2D(32, (3, 3), activation='relu', padding='same')(x)\n",
    "x = UpSampling2D((2, 2))(x)\n",
    "decoded = Conv2D(1, (3, 3), activation='sigmoid', padding='same')(x)\n",
    "\n",
    "autoencoder = Model(input_img, decoded)\n",
    "autoencoder.compile(optimizer='adadelta', loss='binary_crossentropy')\n",
    "autoencoder.summary()"
   ]
  },
  {
   "cell_type": "code",
   "execution_count": 5,
   "metadata": {
    "colab": {
     "base_uri": "https://localhost:8080/",
     "height": 1000
    },
    "colab_type": "code",
    "id": "mFPxrAFPfNE3",
    "outputId": "7be619e0-b907-442d-f929-8a5416e70843"
   },
   "outputs": [
    {
     "name": "stdout",
     "output_type": "stream",
     "text": [
      "WARNING:tensorflow:From C:\\Users\\hseth\\Anaconda3\\envs\\tf_gpu\\lib\\site-packages\\keras\\backend\\tensorflow_backend.py:422: The name tf.global_variables is deprecated. Please use tf.compat.v1.global_variables instead.\n",
      "\n",
      "Train on 60000 samples, validate on 10000 samples\n",
      "Epoch 1/100\n",
      "60000/60000 [==============================] - 8s 130us/step - loss: 0.1752 - val_loss: 0.1281\n",
      "Epoch 2/100\n",
      "60000/60000 [==============================] - 7s 109us/step - loss: 0.1203 - val_loss: 0.1120\n",
      "Epoch 3/100\n",
      "60000/60000 [==============================] - 6s 107us/step - loss: 0.1130 - val_loss: 0.1102\n",
      "Epoch 4/100\n",
      "60000/60000 [==============================] - 6s 107us/step - loss: 0.1092 - val_loss: 0.1064\n",
      "Epoch 5/100\n",
      "60000/60000 [==============================] - 6s 107us/step - loss: 0.1067 - val_loss: 0.1030\n",
      "Epoch 6/100\n",
      "60000/60000 [==============================] - 7s 111us/step - loss: 0.1050 - val_loss: 0.1057\n",
      "Epoch 7/100\n",
      "60000/60000 [==============================] - 7s 112us/step - loss: 0.1039 - val_loss: 0.1013\n",
      "Epoch 8/100\n",
      "60000/60000 [==============================] - 6s 107us/step - loss: 0.1030 - val_loss: 0.1012\n",
      "Epoch 9/100\n",
      "60000/60000 [==============================] - 6s 104us/step - loss: 0.1024 - val_loss: 0.1031\n",
      "Epoch 10/100\n",
      "60000/60000 [==============================] - 6s 102us/step - loss: 0.1018 - val_loss: 0.1015\n",
      "Epoch 11/100\n",
      "60000/60000 [==============================] - 6s 103us/step - loss: 0.1013 - val_loss: 0.0992\n",
      "Epoch 12/100\n",
      "60000/60000 [==============================] - 6s 105us/step - loss: 0.1008 - val_loss: 0.1002\n",
      "Epoch 13/100\n",
      "60000/60000 [==============================] - 6s 108us/step - loss: 0.1004 - val_loss: 0.1009\n",
      "Epoch 14/100\n",
      "60000/60000 [==============================] - 7s 111us/step - loss: 0.1001 - val_loss: 0.0992\n",
      "Epoch 15/100\n",
      "60000/60000 [==============================] - 6s 108us/step - loss: 0.0996 - val_loss: 0.0989\n",
      "Epoch 16/100\n",
      "60000/60000 [==============================] - 6s 108us/step - loss: 0.0994 - val_loss: 0.0978\n",
      "Epoch 17/100\n",
      "60000/60000 [==============================] - 7s 109us/step - loss: 0.0991 - val_loss: 0.0993\n",
      "Epoch 18/100\n",
      "60000/60000 [==============================] - 7s 108us/step - loss: 0.0988 - val_loss: 0.0975\n",
      "Epoch 19/100\n",
      "60000/60000 [==============================] - 6s 107us/step - loss: 0.0986 - val_loss: 0.0987\n",
      "Epoch 20/100\n",
      "60000/60000 [==============================] - 6s 107us/step - loss: 0.0986 - val_loss: 0.0972\n",
      "Epoch 21/100\n",
      "60000/60000 [==============================] - 6s 107us/step - loss: 0.0982 - val_loss: 0.0969\n",
      "Epoch 22/100\n",
      "60000/60000 [==============================] - 6s 107us/step - loss: 0.0981 - val_loss: 0.0966\n",
      "Epoch 23/100\n",
      "60000/60000 [==============================] - 6s 107us/step - loss: 0.0979 - val_loss: 0.0976\n",
      "Epoch 24/100\n",
      "60000/60000 [==============================] - 6s 107us/step - loss: 0.0978 - val_loss: 0.0977\n",
      "Epoch 25/100\n",
      "60000/60000 [==============================] - 6s 107us/step - loss: 0.0976 - val_loss: 0.0971\n",
      "Epoch 26/100\n",
      "60000/60000 [==============================] - 6s 107us/step - loss: 0.0974 - val_loss: 0.0971\n",
      "Epoch 27/100\n",
      "60000/60000 [==============================] - 6s 107us/step - loss: 0.0973 - val_loss: 0.0972\n",
      "Epoch 28/100\n",
      "60000/60000 [==============================] - 6s 108us/step - loss: 0.0972 - val_loss: 0.0967\n",
      "Epoch 29/100\n",
      "60000/60000 [==============================] - 6s 107us/step - loss: 0.0970 - val_loss: 0.0975\n",
      "Epoch 30/100\n",
      "60000/60000 [==============================] - 6s 108us/step - loss: 0.0969 - val_loss: 0.0973\n",
      "Epoch 31/100\n",
      "60000/60000 [==============================] - 6s 108us/step - loss: 0.0969 - val_loss: 0.0958\n",
      "Epoch 32/100\n",
      "60000/60000 [==============================] - 6s 108us/step - loss: 0.0968 - val_loss: 0.0960\n",
      "Epoch 33/100\n",
      "60000/60000 [==============================] - 6s 108us/step - loss: 0.0967 - val_loss: 0.0962\n",
      "Epoch 34/100\n",
      "60000/60000 [==============================] - 6s 108us/step - loss: 0.0966 - val_loss: 0.0972\n",
      "Epoch 35/100\n",
      "60000/60000 [==============================] - 7s 109us/step - loss: 0.0965 - val_loss: 0.0960\n",
      "Epoch 36/100\n",
      "60000/60000 [==============================] - 6s 108us/step - loss: 0.0965 - val_loss: 0.0954\n",
      "Epoch 37/100\n",
      "60000/60000 [==============================] - 7s 108us/step - loss: 0.0963 - val_loss: 0.0955\n",
      "Epoch 38/100\n",
      "60000/60000 [==============================] - 6s 108us/step - loss: 0.0962 - val_loss: 0.0955\n",
      "Epoch 39/100\n",
      "60000/60000 [==============================] - 6s 108us/step - loss: 0.0961 - val_loss: 0.0955\n",
      "Epoch 40/100\n",
      "60000/60000 [==============================] - 7s 109us/step - loss: 0.0961 - val_loss: 0.0957\n",
      "Epoch 41/100\n",
      "60000/60000 [==============================] - 6s 108us/step - loss: 0.0960 - val_loss: 0.0966\n",
      "Epoch 42/100\n",
      "60000/60000 [==============================] - 6s 108us/step - loss: 0.0960 - val_loss: 0.0955\n",
      "Epoch 43/100\n",
      "60000/60000 [==============================] - 6s 108us/step - loss: 0.0959 - val_loss: 0.0958\n",
      "Epoch 44/100\n",
      "60000/60000 [==============================] - 6s 108us/step - loss: 0.0958 - val_loss: 0.0952\n",
      "Epoch 45/100\n",
      "60000/60000 [==============================] - 6s 108us/step - loss: 0.0958 - val_loss: 0.0956\n",
      "Epoch 46/100\n",
      "60000/60000 [==============================] - 6s 108us/step - loss: 0.0957 - val_loss: 0.0956\n",
      "Epoch 47/100\n",
      "60000/60000 [==============================] - 6s 108us/step - loss: 0.0957 - val_loss: 0.0947\n",
      "Epoch 48/100\n",
      "60000/60000 [==============================] - 7s 108us/step - loss: 0.0957 - val_loss: 0.0961\n",
      "Epoch 49/100\n",
      "60000/60000 [==============================] - 7s 109us/step - loss: 0.0956 - val_loss: 0.0948\n",
      "Epoch 50/100\n",
      "60000/60000 [==============================] - 6s 108us/step - loss: 0.0956 - val_loss: 0.0946\n",
      "Epoch 51/100\n",
      "60000/60000 [==============================] - 6s 108us/step - loss: 0.0955 - val_loss: 0.0949\n",
      "Epoch 52/100\n",
      "60000/60000 [==============================] - 7s 109us/step - loss: 0.0955 - val_loss: 0.0963\n",
      "Epoch 53/100\n",
      "60000/60000 [==============================] - 7s 110us/step - loss: 0.0954 - val_loss: 0.0947\n",
      "Epoch 54/100\n",
      "60000/60000 [==============================] - 6s 108us/step - loss: 0.0954 - val_loss: 0.0952\n",
      "Epoch 55/100\n",
      "60000/60000 [==============================] - 6s 108us/step - loss: 0.0953 - val_loss: 0.0945\n",
      "Epoch 56/100\n",
      "60000/60000 [==============================] - 6s 108us/step - loss: 0.0953 - val_loss: 0.0949\n",
      "Epoch 57/100\n",
      "60000/60000 [==============================] - 6s 108us/step - loss: 0.0952 - val_loss: 0.0944\n",
      "Epoch 58/100\n",
      "60000/60000 [==============================] - 6s 108us/step - loss: 0.0952 - val_loss: 0.0944\n",
      "Epoch 59/100\n",
      "60000/60000 [==============================] - 6s 108us/step - loss: 0.0951 - val_loss: 0.0946\n",
      "Epoch 60/100\n",
      "60000/60000 [==============================] - 7s 108us/step - loss: 0.0951 - val_loss: 0.0945\n",
      "Epoch 61/100\n",
      "60000/60000 [==============================] - 7s 108us/step - loss: 0.0950 - val_loss: 0.0949\n",
      "Epoch 62/100\n",
      "60000/60000 [==============================] - 7s 108us/step - loss: 0.0951 - val_loss: 0.0945\n",
      "Epoch 63/100\n",
      "60000/60000 [==============================] - 7s 108us/step - loss: 0.0951 - val_loss: 0.0943\n",
      "Epoch 64/100\n",
      "60000/60000 [==============================] - 6s 108us/step - loss: 0.0950 - val_loss: 0.0963\n",
      "Epoch 65/100\n",
      "60000/60000 [==============================] - 7s 108us/step - loss: 0.0950 - val_loss: 0.0957\n",
      "Epoch 66/100\n",
      "60000/60000 [==============================] - 6s 108us/step - loss: 0.0949 - val_loss: 0.0947\n",
      "Epoch 67/100\n",
      "60000/60000 [==============================] - 6s 108us/step - loss: 0.0949 - val_loss: 0.0957\n",
      "Epoch 68/100\n",
      "60000/60000 [==============================] - 6s 108us/step - loss: 0.0948 - val_loss: 0.0942\n",
      "Epoch 69/100\n",
      "60000/60000 [==============================] - 6s 108us/step - loss: 0.0949 - val_loss: 0.0950\n",
      "Epoch 70/100\n",
      "60000/60000 [==============================] - 6s 108us/step - loss: 0.0948 - val_loss: 0.0941\n",
      "Epoch 71/100\n",
      "60000/60000 [==============================] - 6s 108us/step - loss: 0.0948 - val_loss: 0.0942\n",
      "Epoch 72/100\n",
      "60000/60000 [==============================] - 7s 109us/step - loss: 0.0947 - val_loss: 0.0940\n",
      "Epoch 73/100\n",
      "60000/60000 [==============================] - 7s 108us/step - loss: 0.0947 - val_loss: 0.0955\n",
      "Epoch 74/100\n"
     ]
    },
    {
     "name": "stdout",
     "output_type": "stream",
     "text": [
      "60000/60000 [==============================] - 6s 107us/step - loss: 0.0947 - val_loss: 0.0942\n",
      "Epoch 75/100\n",
      "60000/60000 [==============================] - 6s 107us/step - loss: 0.0947 - val_loss: 0.0941\n",
      "Epoch 76/100\n",
      "60000/60000 [==============================] - 6s 107us/step - loss: 0.0946 - val_loss: 0.0945\n",
      "Epoch 77/100\n",
      "60000/60000 [==============================] - 6s 107us/step - loss: 0.0946 - val_loss: 0.0939\n",
      "Epoch 78/100\n",
      "60000/60000 [==============================] - 6s 107us/step - loss: 0.0946 - val_loss: 0.0940\n",
      "Epoch 79/100\n",
      "60000/60000 [==============================] - 6s 107us/step - loss: 0.0946 - val_loss: 0.0943\n",
      "Epoch 80/100\n",
      "60000/60000 [==============================] - 6s 107us/step - loss: 0.0945 - val_loss: 0.0940\n",
      "Epoch 81/100\n",
      "60000/60000 [==============================] - 6s 107us/step - loss: 0.0946 - val_loss: 0.0945\n",
      "Epoch 82/100\n",
      "60000/60000 [==============================] - 6s 107us/step - loss: 0.0945 - val_loss: 0.0941\n",
      "Epoch 83/100\n",
      "60000/60000 [==============================] - 6s 107us/step - loss: 0.0945 - val_loss: 0.0944\n",
      "Epoch 84/100\n",
      "60000/60000 [==============================] - 6s 107us/step - loss: 0.0945 - val_loss: 0.0939\n",
      "Epoch 85/100\n",
      "60000/60000 [==============================] - 6s 107us/step - loss: 0.0944 - val_loss: 0.0938\n",
      "Epoch 86/100\n",
      "60000/60000 [==============================] - 6s 107us/step - loss: 0.0945 - val_loss: 0.0939\n",
      "Epoch 87/100\n",
      "60000/60000 [==============================] - 6s 107us/step - loss: 0.0944 - val_loss: 0.0952\n",
      "Epoch 88/100\n",
      "60000/60000 [==============================] - 6s 107us/step - loss: 0.0943 - val_loss: 0.0942\n",
      "Epoch 89/100\n",
      "60000/60000 [==============================] - 6s 107us/step - loss: 0.0943 - val_loss: 0.0940\n",
      "Epoch 90/100\n",
      "60000/60000 [==============================] - 6s 108us/step - loss: 0.0944 - val_loss: 0.0940\n",
      "Epoch 91/100\n",
      "60000/60000 [==============================] - 6s 107us/step - loss: 0.0943 - val_loss: 0.0942\n",
      "Epoch 92/100\n",
      "60000/60000 [==============================] - 6s 108us/step - loss: 0.0943 - val_loss: 0.0939\n",
      "Epoch 93/100\n",
      "60000/60000 [==============================] - 7s 109us/step - loss: 0.0942 - val_loss: 0.0937\n",
      "Epoch 94/100\n",
      "60000/60000 [==============================] - 7s 109us/step - loss: 0.0943 - val_loss: 0.0939\n",
      "Epoch 95/100\n",
      "60000/60000 [==============================] - 6s 108us/step - loss: 0.0942 - val_loss: 0.0937\n",
      "Epoch 96/100\n",
      "60000/60000 [==============================] - 7s 108us/step - loss: 0.0942 - val_loss: 0.0936\n",
      "Epoch 97/100\n",
      "60000/60000 [==============================] - 8s 131us/step - loss: 0.0942 - val_loss: 0.0937\n",
      "Epoch 98/100\n",
      "60000/60000 [==============================] - 6s 108us/step - loss: 0.0942 - val_loss: 0.0939\n",
      "Epoch 99/100\n",
      "60000/60000 [==============================] - 6s 108us/step - loss: 0.0941 - val_loss: 0.0949\n",
      "Epoch 100/100\n",
      "60000/60000 [==============================] - 7s 108us/step - loss: 0.0942 - val_loss: 0.0939\n"
     ]
    },
    {
     "data": {
      "text/plain": [
       "<keras.callbacks.callbacks.History at 0x1cf81993808>"
      ]
     },
     "execution_count": 5,
     "metadata": {},
     "output_type": "execute_result"
    }
   ],
   "source": [
    "autoencoder.fit(x_train_noisy, x_train,\n",
    "                epochs=100,\n",
    "                batch_size=128,\n",
    "                shuffle=True,\n",
    "                validation_data=(x_test_noisy, x_test),\n",
    "                )\n"
   ]
  },
  {
   "cell_type": "code",
   "execution_count": 6,
   "metadata": {
    "colab": {
     "base_uri": "https://localhost:8080/",
     "height": 245
    },
    "colab_type": "code",
    "id": "EY40x_xlfV5I",
    "outputId": "05870b39-feda-4ff8-a90c-9df4ce66c284"
   },
   "outputs": [
    {
     "data": {
      "image/png": "[encoded data removed]",
      "text/plain": [
       "<Figure size 1440x288 with 18 Axes>"
      ]
     },
     "metadata": {
      "needs_background": "light"
     },
     "output_type": "display_data"
    }
   ],
   "source": [
    "decoded_imgs = autoencoder.predict(x_test)\n",
    "\n",
    "n = 10\n",
    "plt.figure(figsize=(20, 4))\n",
    "for i in range(1,n):\n",
    "    # display original\n",
    "    ax = plt.subplot(2, n, i)\n",
    "    plt.imshow(x_test_noisy[i].reshape(28, 28))\n",
    "    plt.gray()\n",
    "    ax.get_xaxis().set_visible(False)\n",
    "    ax.get_yaxis().set_visible(False)\n",
    "\n",
    "    # display reconstruction\n",
    "    ax = plt.subplot(2, n, i + n)\n",
    "    plt.imshow(decoded_imgs[i].reshape(28, 28))\n",
    "    plt.gray()\n",
    "    ax.get_xaxis().set_visible(False)\n",
    "    ax.get_yaxis().set_visible(False)\n",
    "plt.show()"
   ]
  },
  {
   "cell_type": "code",
   "execution_count": 0,
   "metadata": {
    "colab": {},
    "colab_type": "code",
    "id": "0HXXG0JkgzIR"
   },
   "outputs": [],
   "source": []
  }
 ],
 "metadata": {
  "accelerator": "GPU",
  "colab": {
   "name": "51- image denoising mnist (Autoencoder)",
   "provenance": [],
   "version": "0.3.2"
  },
  "kernelspec": {
   "display_name": "Python 3",
   "language": "python",
   "name": "python3"
  },
  "language_info": {
   "codemirror_mode": {
    "name": "ipython",
    "version": 3
   },
   "file_extension": ".py",
   "mimetype": "text/x-python",
   "name": "python",
   "nbconvert_exporter": "python",
   "pygments_lexer": "ipython3",
   "version": "3.7.4"
  }
 },
 "nbformat": 4,
 "nbformat_minor": 1
}

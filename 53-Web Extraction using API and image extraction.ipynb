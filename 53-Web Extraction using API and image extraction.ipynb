{
 "cells": [
  {
   "cell_type": "code",
   "execution_count": 1,
   "metadata": {},
   "outputs": [],
   "source": [
    "import requests"
   ]
  },
  {
   "cell_type": "code",
   "execution_count": 7,
   "metadata": {},
   "outputs": [],
   "source": [
    "# creating url to make a request from the internet\n",
    "address=\"https://api.openweathermap.org/data/2.5/weather\"\n",
    "api_key=\"7a6b1c8c71aa50e1a265e14f599cf0d6\"\n",
    "city=\"Mumbai\"\n",
    "url=f\"{address}?q={city}&appid={api_key}\""
   ]
  },
  {
   "cell_type": "code",
   "execution_count": 8,
   "metadata": {},
   "outputs": [],
   "source": [
    "response=requests.get(url)"
   ]
  },
  {
   "cell_type": "code",
   "execution_count": 9,
   "metadata": {},
   "outputs": [
    {
     "data": {
      "text/plain": [
       "200"
      ]
     },
     "execution_count": 9,
     "metadata": {},
     "output_type": "execute_result"
    }
   ],
   "source": [
    "response.status_code"
   ]
  },
  {
   "cell_type": "code",
   "execution_count": 11,
   "metadata": {},
   "outputs": [
    {
     "data": {
      "text/plain": [
       "{'Server': 'openresty', 'Date': 'Sat, 06 Jul 2019 15:31:37 GMT', 'Content-Type': 'application/json; charset=utf-8', 'Content-Length': '472', 'Connection': 'keep-alive', 'X-Cache-Key': '/data/2.5/weather?q=mumbai', 'Access-Control-Allow-Origin': '*', 'Access-Control-Allow-Credentials': 'true', 'Access-Control-Allow-Methods': 'GET, POST'}"
      ]
     },
     "execution_count": 11,
     "metadata": {},
     "output_type": "execute_result"
    }
   ],
   "source": [
    "response.headers\n",
    "#gives information of the response we get from the url.....file type etc\n",
    "#api will return file with extention json \n",
    "#json file contain data in dictonary format which can be used in by python"
   ]
  },
  {
   "cell_type": "code",
   "execution_count": 12,
   "metadata": {},
   "outputs": [
    {
     "data": {
      "text/plain": [
       "b'{\"coord\":{\"lon\":72.85,\"lat\":19.01},\"weather\":[{\"id\":500,\"main\":\"Rain\",\"description\":\"light rain\",\"icon\":\"10n\"}],\"base\":\"stations\",\"main\":{\"temp\":302.15,\"pressure\":1000,\"humidity\":89,\"temp_min\":302.15,\"temp_max\":302.15},\"visibility\":1800,\"wind\":{\"speed\":5.1,\"deg\":230,\"gust\":10.3},\"clouds\":{\"all\":90},\"dt\":1562426881,\"sys\":{\"type\":1,\"id\":9052,\"message\":0.0062,\"country\":\"IN\",\"sunrise\":1562373360,\"sunset\":1562421007},\"timezone\":19800,\"id\":1275339,\"name\":\"Mumbai\",\"cod\":200}'"
      ]
     },
     "execution_count": 12,
     "metadata": {},
     "output_type": "execute_result"
    }
   ],
   "source": [
    "response.content"
   ]
  },
  {
   "cell_type": "code",
   "execution_count": 14,
   "metadata": {},
   "outputs": [
    {
     "data": {
      "text/plain": [
       "{'coord': {'lon': 72.85, 'lat': 19.01},\n",
       " 'weather': [{'id': 500,\n",
       "   'main': 'Rain',\n",
       "   'description': 'light rain',\n",
       "   'icon': '10n'}],\n",
       " 'base': 'stations',\n",
       " 'main': {'temp': 302.15,\n",
       "  'pressure': 1000,\n",
       "  'humidity': 89,\n",
       "  'temp_min': 302.15,\n",
       "  'temp_max': 302.15},\n",
       " 'visibility': 1800,\n",
       " 'wind': {'speed': 5.1, 'deg': 230, 'gust': 10.3},\n",
       " 'clouds': {'all': 90},\n",
       " 'dt': 1562426881,\n",
       " 'sys': {'type': 1,\n",
       "  'id': 9052,\n",
       "  'message': 0.0062,\n",
       "  'country': 'IN',\n",
       "  'sunrise': 1562373360,\n",
       "  'sunset': 1562421007},\n",
       " 'timezone': 19800,\n",
       " 'id': 1275339,\n",
       " 'name': 'Mumbai',\n",
       " 'cod': 200}"
      ]
     },
     "execution_count": 14,
     "metadata": {},
     "output_type": "execute_result"
    }
   ],
   "source": [
    "data=response.json()  #saving data we get from web in variable\n",
    "data"
   ]
  },
  {
   "cell_type": "code",
   "execution_count": 15,
   "metadata": {},
   "outputs": [
    {
     "name": "stdout",
     "output_type": "stream",
     "text": [
      "min temp: 29.0\n",
      "max temp: 29.0\n"
     ]
    }
   ],
   "source": [
    "#extracting data from the data dictionary\n",
    "tempmin=data[\"main\"][\"temp_min\"]-273.15         #-273.15 to get ans in celciu\n",
    "tempmax=data[\"main\"][\"temp_max\"]-273.15\n",
    "print(\"min temp:\",tempmin)\n",
    "print(\"max temp:\",tempmax)"
   ]
  },
  {
   "cell_type": "code",
   "execution_count": 18,
   "metadata": {},
   "outputs": [],
   "source": [
    "#image downloading\n",
    "url=\"https://e1.365dm.com/19/05/768x432/skysports-lionel-messi-barcelona_4656338.jpg?20190501224725\"\n",
    "res=requests.get(url)\n",
    "#saving above data\n",
    "with open(\"OUTPUTS/MESSI SCRAPING.jpg\",\"wb\") as file: \n",
    "#wb binary write / we can open in read mode, write and append\n",
    "    file.write(res.content)"
   ]
  },
  {
   "cell_type": "code",
   "execution_count": 19,
   "metadata": {},
   "outputs": [
    {
     "data": {
      "text/plain": [
       "200"
      ]
     },
     "execution_count": 19,
     "metadata": {},
     "output_type": "execute_result"
    }
   ],
   "source": [
    "res.status_code"
   ]
  },
  {
   "cell_type": "code",
   "execution_count": null,
   "metadata": {},
   "outputs": [],
   "source": []
  }
 ],
 "metadata": {
  "kernelspec": {
   "display_name": "Python 3",
   "language": "python",
   "name": "python3"
  },
  "language_info": {
   "codemirror_mode": {
    "name": "ipython",
    "version": 3
   },
   "file_extension": ".py",
   "mimetype": "text/x-python",
   "name": "python",
   "nbconvert_exporter": "python",
   "pygments_lexer": "ipython3",
   "version": "3.6.7"
  }
 },
 "nbformat": 4,
 "nbformat_minor": 2
}

{
 "cells": [
  {
   "cell_type": "code",
   "execution_count": 1,
   "metadata": {},
   "outputs": [],
   "source": [
    "import sklearn\n",
    "from sklearn import datasets"
   ]
  },
  {
   "cell_type": "code",
   "execution_count": 27,
   "metadata": {},
   "outputs": [],
   "source": [
    "iris = datasets.load_iris()\n",
    "x = iris.data[:,:2]\n",
    "y = iris.target"
   ]
  },
  {
   "cell_type": "code",
   "execution_count": 3,
   "metadata": {},
   "outputs": [
    {
     "name": "stdout",
     "output_type": "stream",
     "text": [
      "(150, 2) (150,)\n"
     ]
    }
   ],
   "source": [
    "print (x.shape , y.shape)"
   ]
  },
  {
   "cell_type": "code",
   "execution_count": 10,
   "metadata": {},
   "outputs": [],
   "source": [
    "import numpy as np \n",
    "#a = np.array([1,2,3])\n",
    "#b = np.array([4,5,6])\n",
    "\n",
    "#def l2_n(v1 , v2):\n",
    " #   sum = 0\n",
    "  #  for i in range((v1.shape[0])):\n",
    "   #     sum = sum + (v1[i] - v2[i])**2\n",
    "    \n",
    "    #return (sum**(0.5))\n",
    "\n",
    "def l2(v1 , v2):\n",
    "    return np.sqrt(np.sum((v1 -v2)**2)) \n"
   ]
  },
  {
   "cell_type": "code",
   "execution_count": 5,
   "metadata": {},
   "outputs": [],
   "source": [
    "from sklearn.model_selection import train_test_split"
   ]
  },
  {
   "cell_type": "code",
   "execution_count": 6,
   "metadata": {},
   "outputs": [],
   "source": [
    "X_train, X_test, y_train, y_test = train_test_split(x, y, test_size=0.20, random_state=42)"
   ]
  },
  {
   "cell_type": "code",
   "execution_count": 7,
   "metadata": {},
   "outputs": [
    {
     "name": "stdout",
     "output_type": "stream",
     "text": [
      "(120,) (30,)\n"
     ]
    }
   ],
   "source": [
    "print (y_train.shape , y_test.shape)"
   ]
  },
  {
   "cell_type": "code",
   "execution_count": 31,
   "metadata": {},
   "outputs": [
    {
     "name": "stdout",
     "output_type": "stream",
     "text": [
      "120\n",
      "120\n",
      "120\n",
      "120\n",
      "120\n",
      "120\n",
      "120\n",
      "120\n",
      "120\n",
      "120\n",
      "120\n",
      "120\n",
      "120\n",
      "120\n",
      "120\n",
      "120\n",
      "120\n",
      "120\n",
      "120\n",
      "120\n",
      "120\n",
      "120\n",
      "120\n",
      "120\n",
      "120\n",
      "120\n",
      "120\n",
      "120\n",
      "120\n",
      "120\n",
      "76.66666666666667\n"
     ]
    }
   ],
   "source": [
    "def voting(lab):\n",
    "    \n",
    "    freq = {}\n",
    "    for i in lab:\n",
    "        if i in freq:\n",
    "            freq[i] = freq[i] + 1 \n",
    "        else:\n",
    "            freq[i] = 1\n",
    "    \n",
    "    max_key = list(freq.keys())[0]\n",
    "    #print(freq.values(),freq.keys())\n",
    "    for i in freq.keys():\n",
    "        \n",
    "        if (freq[i] > freq[max_key]):\n",
    "            max_key = i\n",
    "    \n",
    "    return max_key\n",
    "\n",
    "\n",
    "def knn(tr, tr_lab, te , k):\n",
    "    distances = []\n",
    "    for i in range(tr.shape[0]):\n",
    "        distances.append(l2(tr[i], te))\n",
    "    \n",
    "    distances = np.array(distances)\n",
    "    inds = np.argsort(distances)\n",
    "    \n",
    "    distances = distances[inds]\n",
    "    tr_lab_2 = tr_lab[inds]\n",
    "    label = voting(tr_lab_2[:k])\n",
    "    \n",
    "    return label \n",
    "    \n",
    "\n",
    "def knn_classifier(tr , tr_lab, te , te_lab , k):\n",
    "    preds = []\n",
    "    for i in range(te.shape[0]):\n",
    "        label = knn(tr, tr_lab, te[i] , k)\n",
    "        preds.append(label)\n",
    "    \n",
    "    preds  = np.array(preds)\n",
    "    acc = np.sum(preds == te_lab)*100/te_lab.shape[0]\n",
    "    return acc\n",
    "\n",
    "acc = knn_classifier(X_train , y_train , X_test , y_test ,5)\n",
    "print (acc)"
   ]
  },
  {
   "cell_type": "code",
   "execution_count": 9,
   "metadata": {},
   "outputs": [],
   "source": [
    "## HW -2 KNN load boston regresssion \n",
    "## Docs of sklearn -> KNN Classifier , KNN Regressor "
   ]
  },
  {
   "cell_type": "code",
   "execution_count": null,
   "metadata": {},
   "outputs": [],
   "source": []
  }
 ],
 "metadata": {
  "kernelspec": {
   "display_name": "Python 3",
   "language": "python",
   "name": "python3"
  },
  "language_info": {
   "codemirror_mode": {
    "name": "ipython",
    "version": 3
   },
   "file_extension": ".py",
   "mimetype": "text/x-python",
   "name": "python",
   "nbconvert_exporter": "python",
   "pygments_lexer": "ipython3",
   "version": "3.7.4"
  }
 },
 "nbformat": 4,
 "nbformat_minor": 2
}
